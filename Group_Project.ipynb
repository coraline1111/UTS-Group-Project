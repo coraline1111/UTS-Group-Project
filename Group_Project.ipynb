{
  "nbformat": 4,
  "nbformat_minor": 0,
  "metadata": {
    "colab": {
      "provenance": [],
      "collapsed_sections": [
        "OnXJmCXN3k8t",
        "TsVFAMvI3IOP",
        "4MPvv6Cw3ZK-",
        "Kqd3ayzigwNQ",
        "j1seaol5iE_T"
      ],
      "authorship_tag": "ABX9TyORYPX9vgnUQqGmzh+9uOGG",
      "include_colab_link": true
    },
    "kernelspec": {
      "name": "python3",
      "display_name": "Python 3"
    },
    "language_info": {
      "name": "python"
    }
  },
  "cells": [
    {
      "cell_type": "markdown",
      "metadata": {
        "id": "view-in-github",
        "colab_type": "text"
      },
      "source": [
        "<a href=\"https://colab.research.google.com/github/coraline1111/UTS-Group-Project/blob/version-1/Group_Project.ipynb\" target=\"_parent\"><img src=\"https://colab.research.google.com/assets/colab-badge.svg\" alt=\"Open In Colab\"/></a>"
      ]
    },
    {
      "cell_type": "markdown",
      "source": [
        "# Mount Google Drive and Merge csv files"
      ],
      "metadata": {
        "id": "OnXJmCXN3k8t"
      }
    },
    {
      "cell_type": "code",
      "execution_count": 1,
      "metadata": {
        "id": "BEiaWOA4yNNz"
      },
      "outputs": [],
      "source": [
        "# import libiary\n",
        "import numpy as np\n",
        "import pandas as pd\n",
        "import os\n",
        "import matplotlib.pyplot as plt\n",
        "import seaborn as sns\n",
        "import warnings\n",
        "import folium\n",
        "import geopandas as gpd\n",
        "from shapely.geometry import Point\n",
        "from folium.plugins import HeatMap\n",
        "from sklearn.model_selection import train_test_split, GridSearchCV\n",
        "from sklearn.preprocessing import StandardScaler\n",
        "from sklearn.decomposition import PCA\n",
        "from sklearn.linear_model import LinearRegression\n",
        "from sklearn.ensemble import RandomForestRegressor\n",
        "from sklearn.metrics import mean_squared_error, r2_score\n",
        "from sklearn.cluster import KMeans, DBSCAN\n",
        "import plotly.express as px\n",
        "import plotly.subplots as sp\n"
      ]
    },
    {
      "cell_type": "code",
      "source": [
        "from google.colab import drive"
      ],
      "metadata": {
        "id": "mQqAitwDw6l4"
      },
      "execution_count": 2,
      "outputs": []
    },
    {
      "cell_type": "code",
      "source": [
        "drive.mount('/content/drive')"
      ],
      "metadata": {
        "id": "hy0v7rhSw92q",
        "colab": {
          "base_uri": "https://localhost:8080/"
        },
        "outputId": "34f7d0d5-a859-4168-b468-e193f89890a5"
      },
      "execution_count": 3,
      "outputs": [
        {
          "output_type": "stream",
          "name": "stdout",
          "text": [
            "Mounted at /content/drive\n"
          ]
        }
      ]
    },
    {
      "cell_type": "code",
      "source": [
        "# Read a CSV file named '2016Q1' from the folder\n",
        "file_path = '/content/drive/My Drive/Group Project/Dataset/2016Q1.csv'\n",
        "df = pd.read_csv(file_path)\n",
        "df.head()\n"
      ],
      "metadata": {
        "id": "nqvULVcGyZFe",
        "colab": {
          "base_uri": "https://localhost:8080/",
          "height": 206
        },
        "outputId": "ad089e5f-026c-4dd3-873f-b37ad6bba278"
      },
      "execution_count": 4,
      "outputs": [
        {
          "output_type": "execute_result",
          "data": {
            "text/plain": [
              "   Duration           Start date             End date  Start station number  \\\n",
              "0       166  2016-01-01 00:06:58  2016-01-01 00:09:44                 31102   \n",
              "1       448  2016-01-01 00:10:20  2016-01-01 00:17:48                 32039   \n",
              "2       715  2016-01-01 00:13:52  2016-01-01 00:25:48                 31222   \n",
              "3       213  2016-01-01 00:15:29  2016-01-01 00:19:03                 31506   \n",
              "4       872  2016-01-01 00:16:16  2016-01-01 00:30:49                 31041   \n",
              "\n",
              "                      Start station  End station number  \\\n",
              "0               11th & Kenyon St NW               31105   \n",
              "1  Old Georgetown Rd & Southwick St               32002   \n",
              "2         New York Ave & 15th St NW               31214   \n",
              "3         1st & Rhode Island Ave NW               31509   \n",
              "4              Prince St & Union St               31048   \n",
              "\n",
              "                   End station Bike number Member type  \n",
              "0         14th & Harvard St NW      W01346      Member  \n",
              "1  Bethesda Ave & Arlington Rd      W22202      Member  \n",
              "2        17th & Corcoran St NW      W21427      Member  \n",
              "3     New Jersey Ave & R St NW      W01294      Member  \n",
              "4          King St Metro South      W22058      Member  "
            ],
            "text/html": [
              "\n",
              "  <div id=\"df-9ef7417a-b85f-4c16-8dc3-0f559c75046c\" class=\"colab-df-container\">\n",
              "    <div>\n",
              "<style scoped>\n",
              "    .dataframe tbody tr th:only-of-type {\n",
              "        vertical-align: middle;\n",
              "    }\n",
              "\n",
              "    .dataframe tbody tr th {\n",
              "        vertical-align: top;\n",
              "    }\n",
              "\n",
              "    .dataframe thead th {\n",
              "        text-align: right;\n",
              "    }\n",
              "</style>\n",
              "<table border=\"1\" class=\"dataframe\">\n",
              "  <thead>\n",
              "    <tr style=\"text-align: right;\">\n",
              "      <th></th>\n",
              "      <th>Duration</th>\n",
              "      <th>Start date</th>\n",
              "      <th>End date</th>\n",
              "      <th>Start station number</th>\n",
              "      <th>Start station</th>\n",
              "      <th>End station number</th>\n",
              "      <th>End station</th>\n",
              "      <th>Bike number</th>\n",
              "      <th>Member type</th>\n",
              "    </tr>\n",
              "  </thead>\n",
              "  <tbody>\n",
              "    <tr>\n",
              "      <th>0</th>\n",
              "      <td>166</td>\n",
              "      <td>2016-01-01 00:06:58</td>\n",
              "      <td>2016-01-01 00:09:44</td>\n",
              "      <td>31102</td>\n",
              "      <td>11th &amp; Kenyon St NW</td>\n",
              "      <td>31105</td>\n",
              "      <td>14th &amp; Harvard St NW</td>\n",
              "      <td>W01346</td>\n",
              "      <td>Member</td>\n",
              "    </tr>\n",
              "    <tr>\n",
              "      <th>1</th>\n",
              "      <td>448</td>\n",
              "      <td>2016-01-01 00:10:20</td>\n",
              "      <td>2016-01-01 00:17:48</td>\n",
              "      <td>32039</td>\n",
              "      <td>Old Georgetown Rd &amp; Southwick St</td>\n",
              "      <td>32002</td>\n",
              "      <td>Bethesda Ave &amp; Arlington Rd</td>\n",
              "      <td>W22202</td>\n",
              "      <td>Member</td>\n",
              "    </tr>\n",
              "    <tr>\n",
              "      <th>2</th>\n",
              "      <td>715</td>\n",
              "      <td>2016-01-01 00:13:52</td>\n",
              "      <td>2016-01-01 00:25:48</td>\n",
              "      <td>31222</td>\n",
              "      <td>New York Ave &amp; 15th St NW</td>\n",
              "      <td>31214</td>\n",
              "      <td>17th &amp; Corcoran St NW</td>\n",
              "      <td>W21427</td>\n",
              "      <td>Member</td>\n",
              "    </tr>\n",
              "    <tr>\n",
              "      <th>3</th>\n",
              "      <td>213</td>\n",
              "      <td>2016-01-01 00:15:29</td>\n",
              "      <td>2016-01-01 00:19:03</td>\n",
              "      <td>31506</td>\n",
              "      <td>1st &amp; Rhode Island Ave NW</td>\n",
              "      <td>31509</td>\n",
              "      <td>New Jersey Ave &amp; R St NW</td>\n",
              "      <td>W01294</td>\n",
              "      <td>Member</td>\n",
              "    </tr>\n",
              "    <tr>\n",
              "      <th>4</th>\n",
              "      <td>872</td>\n",
              "      <td>2016-01-01 00:16:16</td>\n",
              "      <td>2016-01-01 00:30:49</td>\n",
              "      <td>31041</td>\n",
              "      <td>Prince St &amp; Union St</td>\n",
              "      <td>31048</td>\n",
              "      <td>King St Metro South</td>\n",
              "      <td>W22058</td>\n",
              "      <td>Member</td>\n",
              "    </tr>\n",
              "  </tbody>\n",
              "</table>\n",
              "</div>\n",
              "    <div class=\"colab-df-buttons\">\n",
              "\n",
              "  <div class=\"colab-df-container\">\n",
              "    <button class=\"colab-df-convert\" onclick=\"convertToInteractive('df-9ef7417a-b85f-4c16-8dc3-0f559c75046c')\"\n",
              "            title=\"Convert this dataframe to an interactive table.\"\n",
              "            style=\"display:none;\">\n",
              "\n",
              "  <svg xmlns=\"http://www.w3.org/2000/svg\" height=\"24px\" viewBox=\"0 -960 960 960\">\n",
              "    <path d=\"M120-120v-720h720v720H120Zm60-500h600v-160H180v160Zm220 220h160v-160H400v160Zm0 220h160v-160H400v160ZM180-400h160v-160H180v160Zm440 0h160v-160H620v160ZM180-180h160v-160H180v160Zm440 0h160v-160H620v160Z\"/>\n",
              "  </svg>\n",
              "    </button>\n",
              "\n",
              "  <style>\n",
              "    .colab-df-container {\n",
              "      display:flex;\n",
              "      gap: 12px;\n",
              "    }\n",
              "\n",
              "    .colab-df-convert {\n",
              "      background-color: #E8F0FE;\n",
              "      border: none;\n",
              "      border-radius: 50%;\n",
              "      cursor: pointer;\n",
              "      display: none;\n",
              "      fill: #1967D2;\n",
              "      height: 32px;\n",
              "      padding: 0 0 0 0;\n",
              "      width: 32px;\n",
              "    }\n",
              "\n",
              "    .colab-df-convert:hover {\n",
              "      background-color: #E2EBFA;\n",
              "      box-shadow: 0px 1px 2px rgba(60, 64, 67, 0.3), 0px 1px 3px 1px rgba(60, 64, 67, 0.15);\n",
              "      fill: #174EA6;\n",
              "    }\n",
              "\n",
              "    .colab-df-buttons div {\n",
              "      margin-bottom: 4px;\n",
              "    }\n",
              "\n",
              "    [theme=dark] .colab-df-convert {\n",
              "      background-color: #3B4455;\n",
              "      fill: #D2E3FC;\n",
              "    }\n",
              "\n",
              "    [theme=dark] .colab-df-convert:hover {\n",
              "      background-color: #434B5C;\n",
              "      box-shadow: 0px 1px 3px 1px rgba(0, 0, 0, 0.15);\n",
              "      filter: drop-shadow(0px 1px 2px rgba(0, 0, 0, 0.3));\n",
              "      fill: #FFFFFF;\n",
              "    }\n",
              "  </style>\n",
              "\n",
              "    <script>\n",
              "      const buttonEl =\n",
              "        document.querySelector('#df-9ef7417a-b85f-4c16-8dc3-0f559c75046c button.colab-df-convert');\n",
              "      buttonEl.style.display =\n",
              "        google.colab.kernel.accessAllowed ? 'block' : 'none';\n",
              "\n",
              "      async function convertToInteractive(key) {\n",
              "        const element = document.querySelector('#df-9ef7417a-b85f-4c16-8dc3-0f559c75046c');\n",
              "        const dataTable =\n",
              "          await google.colab.kernel.invokeFunction('convertToInteractive',\n",
              "                                                    [key], {});\n",
              "        if (!dataTable) return;\n",
              "\n",
              "        const docLinkHtml = 'Like what you see? Visit the ' +\n",
              "          '<a target=\"_blank\" href=https://colab.research.google.com/notebooks/data_table.ipynb>data table notebook</a>'\n",
              "          + ' to learn more about interactive tables.';\n",
              "        element.innerHTML = '';\n",
              "        dataTable['output_type'] = 'display_data';\n",
              "        await google.colab.output.renderOutput(dataTable, element);\n",
              "        const docLink = document.createElement('div');\n",
              "        docLink.innerHTML = docLinkHtml;\n",
              "        element.appendChild(docLink);\n",
              "      }\n",
              "    </script>\n",
              "  </div>\n",
              "\n",
              "\n",
              "<div id=\"df-dbbd4a61-6de0-4e59-99e6-0f6d84184545\">\n",
              "  <button class=\"colab-df-quickchart\" onclick=\"quickchart('df-dbbd4a61-6de0-4e59-99e6-0f6d84184545')\"\n",
              "            title=\"Suggest charts\"\n",
              "            style=\"display:none;\">\n",
              "\n",
              "<svg xmlns=\"http://www.w3.org/2000/svg\" height=\"24px\"viewBox=\"0 0 24 24\"\n",
              "     width=\"24px\">\n",
              "    <g>\n",
              "        <path d=\"M19 3H5c-1.1 0-2 .9-2 2v14c0 1.1.9 2 2 2h14c1.1 0 2-.9 2-2V5c0-1.1-.9-2-2-2zM9 17H7v-7h2v7zm4 0h-2V7h2v10zm4 0h-2v-4h2v4z\"/>\n",
              "    </g>\n",
              "</svg>\n",
              "  </button>\n",
              "\n",
              "<style>\n",
              "  .colab-df-quickchart {\n",
              "      --bg-color: #E8F0FE;\n",
              "      --fill-color: #1967D2;\n",
              "      --hover-bg-color: #E2EBFA;\n",
              "      --hover-fill-color: #174EA6;\n",
              "      --disabled-fill-color: #AAA;\n",
              "      --disabled-bg-color: #DDD;\n",
              "  }\n",
              "\n",
              "  [theme=dark] .colab-df-quickchart {\n",
              "      --bg-color: #3B4455;\n",
              "      --fill-color: #D2E3FC;\n",
              "      --hover-bg-color: #434B5C;\n",
              "      --hover-fill-color: #FFFFFF;\n",
              "      --disabled-bg-color: #3B4455;\n",
              "      --disabled-fill-color: #666;\n",
              "  }\n",
              "\n",
              "  .colab-df-quickchart {\n",
              "    background-color: var(--bg-color);\n",
              "    border: none;\n",
              "    border-radius: 50%;\n",
              "    cursor: pointer;\n",
              "    display: none;\n",
              "    fill: var(--fill-color);\n",
              "    height: 32px;\n",
              "    padding: 0;\n",
              "    width: 32px;\n",
              "  }\n",
              "\n",
              "  .colab-df-quickchart:hover {\n",
              "    background-color: var(--hover-bg-color);\n",
              "    box-shadow: 0 1px 2px rgba(60, 64, 67, 0.3), 0 1px 3px 1px rgba(60, 64, 67, 0.15);\n",
              "    fill: var(--button-hover-fill-color);\n",
              "  }\n",
              "\n",
              "  .colab-df-quickchart-complete:disabled,\n",
              "  .colab-df-quickchart-complete:disabled:hover {\n",
              "    background-color: var(--disabled-bg-color);\n",
              "    fill: var(--disabled-fill-color);\n",
              "    box-shadow: none;\n",
              "  }\n",
              "\n",
              "  .colab-df-spinner {\n",
              "    border: 2px solid var(--fill-color);\n",
              "    border-color: transparent;\n",
              "    border-bottom-color: var(--fill-color);\n",
              "    animation:\n",
              "      spin 1s steps(1) infinite;\n",
              "  }\n",
              "\n",
              "  @keyframes spin {\n",
              "    0% {\n",
              "      border-color: transparent;\n",
              "      border-bottom-color: var(--fill-color);\n",
              "      border-left-color: var(--fill-color);\n",
              "    }\n",
              "    20% {\n",
              "      border-color: transparent;\n",
              "      border-left-color: var(--fill-color);\n",
              "      border-top-color: var(--fill-color);\n",
              "    }\n",
              "    30% {\n",
              "      border-color: transparent;\n",
              "      border-left-color: var(--fill-color);\n",
              "      border-top-color: var(--fill-color);\n",
              "      border-right-color: var(--fill-color);\n",
              "    }\n",
              "    40% {\n",
              "      border-color: transparent;\n",
              "      border-right-color: var(--fill-color);\n",
              "      border-top-color: var(--fill-color);\n",
              "    }\n",
              "    60% {\n",
              "      border-color: transparent;\n",
              "      border-right-color: var(--fill-color);\n",
              "    }\n",
              "    80% {\n",
              "      border-color: transparent;\n",
              "      border-right-color: var(--fill-color);\n",
              "      border-bottom-color: var(--fill-color);\n",
              "    }\n",
              "    90% {\n",
              "      border-color: transparent;\n",
              "      border-bottom-color: var(--fill-color);\n",
              "    }\n",
              "  }\n",
              "</style>\n",
              "\n",
              "  <script>\n",
              "    async function quickchart(key) {\n",
              "      const quickchartButtonEl =\n",
              "        document.querySelector('#' + key + ' button');\n",
              "      quickchartButtonEl.disabled = true;  // To prevent multiple clicks.\n",
              "      quickchartButtonEl.classList.add('colab-df-spinner');\n",
              "      try {\n",
              "        const charts = await google.colab.kernel.invokeFunction(\n",
              "            'suggestCharts', [key], {});\n",
              "      } catch (error) {\n",
              "        console.error('Error during call to suggestCharts:', error);\n",
              "      }\n",
              "      quickchartButtonEl.classList.remove('colab-df-spinner');\n",
              "      quickchartButtonEl.classList.add('colab-df-quickchart-complete');\n",
              "    }\n",
              "    (() => {\n",
              "      let quickchartButtonEl =\n",
              "        document.querySelector('#df-dbbd4a61-6de0-4e59-99e6-0f6d84184545 button');\n",
              "      quickchartButtonEl.style.display =\n",
              "        google.colab.kernel.accessAllowed ? 'block' : 'none';\n",
              "    })();\n",
              "  </script>\n",
              "</div>\n",
              "\n",
              "    </div>\n",
              "  </div>\n"
            ],
            "application/vnd.google.colaboratory.intrinsic+json": {
              "type": "dataframe",
              "variable_name": "df"
            }
          },
          "metadata": {},
          "execution_count": 4
        }
      ]
    },
    {
      "cell_type": "code",
      "source": [
        "# get the folder path\n",
        "folder_path = '/content/drive/My Drive/Group Project/Dataset'\n"
      ],
      "metadata": {
        "id": "vKCo6jN70v1r"
      },
      "execution_count": 5,
      "outputs": []
    },
    {
      "cell_type": "code",
      "source": [
        "# list csv files\n",
        "csv_files = [f for f in os.listdir(folder_path) if f.endswith('.csv')]\n",
        "print(csv_files)\n"
      ],
      "metadata": {
        "colab": {
          "base_uri": "https://localhost:8080/"
        },
        "id": "VnfLrZoo00lP",
        "outputId": "098173ec-2170-448b-f4fa-44551720464f"
      },
      "execution_count": 6,
      "outputs": [
        {
          "output_type": "stream",
          "name": "stdout",
          "text": [
            "['2016Q1.csv', '2016Q2.csv', '2016Q3.csv', '2016Q4.csv', '2017Q1.csv', '2017Q2.csv', '2017Q3.csv', '2017Q4.csv', '201801.csv', '201802.csv', '201803.csv', '201804.csv', '201805.csv', '201806.csv', '201807.csv', '201808.csv', '201809.csv', '201810.csv', '201811.csv', '201812.csv']\n"
          ]
        }
      ]
    },
    {
      "cell_type": "code",
      "source": [
        "# merge all csv (they have the same column names)\n",
        "combined_df = pd.concat(\n",
        "    [pd.read_csv(os.path.join(folder_path, file)) for file in csv_files],\n",
        "    ignore_index=True\n",
        ")\n",
        "combined_df.head()\n"
      ],
      "metadata": {
        "colab": {
          "base_uri": "https://localhost:8080/",
          "height": 0
        },
        "id": "bF_qrkJV069w",
        "outputId": "72d6552e-c10d-460a-8458-ed59a7a9ebfd"
      },
      "execution_count": 7,
      "outputs": [
        {
          "output_type": "execute_result",
          "data": {
            "text/plain": [
              "   Duration           Start date             End date  Start station number  \\\n",
              "0       166  2016-01-01 00:06:58  2016-01-01 00:09:44                 31102   \n",
              "1       448  2016-01-01 00:10:20  2016-01-01 00:17:48                 32039   \n",
              "2       715  2016-01-01 00:13:52  2016-01-01 00:25:48                 31222   \n",
              "3       213  2016-01-01 00:15:29  2016-01-01 00:19:03                 31506   \n",
              "4       872  2016-01-01 00:16:16  2016-01-01 00:30:49                 31041   \n",
              "\n",
              "                      Start station  End station number  \\\n",
              "0               11th & Kenyon St NW               31105   \n",
              "1  Old Georgetown Rd & Southwick St               32002   \n",
              "2         New York Ave & 15th St NW               31214   \n",
              "3         1st & Rhode Island Ave NW               31509   \n",
              "4              Prince St & Union St               31048   \n",
              "\n",
              "                   End station Bike number Member type  \n",
              "0         14th & Harvard St NW      W01346      Member  \n",
              "1  Bethesda Ave & Arlington Rd      W22202      Member  \n",
              "2        17th & Corcoran St NW      W21427      Member  \n",
              "3     New Jersey Ave & R St NW      W01294      Member  \n",
              "4          King St Metro South      W22058      Member  "
            ],
            "text/html": [
              "\n",
              "  <div id=\"df-5808934b-1501-484b-b3b1-b6c2d137a347\" class=\"colab-df-container\">\n",
              "    <div>\n",
              "<style scoped>\n",
              "    .dataframe tbody tr th:only-of-type {\n",
              "        vertical-align: middle;\n",
              "    }\n",
              "\n",
              "    .dataframe tbody tr th {\n",
              "        vertical-align: top;\n",
              "    }\n",
              "\n",
              "    .dataframe thead th {\n",
              "        text-align: right;\n",
              "    }\n",
              "</style>\n",
              "<table border=\"1\" class=\"dataframe\">\n",
              "  <thead>\n",
              "    <tr style=\"text-align: right;\">\n",
              "      <th></th>\n",
              "      <th>Duration</th>\n",
              "      <th>Start date</th>\n",
              "      <th>End date</th>\n",
              "      <th>Start station number</th>\n",
              "      <th>Start station</th>\n",
              "      <th>End station number</th>\n",
              "      <th>End station</th>\n",
              "      <th>Bike number</th>\n",
              "      <th>Member type</th>\n",
              "    </tr>\n",
              "  </thead>\n",
              "  <tbody>\n",
              "    <tr>\n",
              "      <th>0</th>\n",
              "      <td>166</td>\n",
              "      <td>2016-01-01 00:06:58</td>\n",
              "      <td>2016-01-01 00:09:44</td>\n",
              "      <td>31102</td>\n",
              "      <td>11th &amp; Kenyon St NW</td>\n",
              "      <td>31105</td>\n",
              "      <td>14th &amp; Harvard St NW</td>\n",
              "      <td>W01346</td>\n",
              "      <td>Member</td>\n",
              "    </tr>\n",
              "    <tr>\n",
              "      <th>1</th>\n",
              "      <td>448</td>\n",
              "      <td>2016-01-01 00:10:20</td>\n",
              "      <td>2016-01-01 00:17:48</td>\n",
              "      <td>32039</td>\n",
              "      <td>Old Georgetown Rd &amp; Southwick St</td>\n",
              "      <td>32002</td>\n",
              "      <td>Bethesda Ave &amp; Arlington Rd</td>\n",
              "      <td>W22202</td>\n",
              "      <td>Member</td>\n",
              "    </tr>\n",
              "    <tr>\n",
              "      <th>2</th>\n",
              "      <td>715</td>\n",
              "      <td>2016-01-01 00:13:52</td>\n",
              "      <td>2016-01-01 00:25:48</td>\n",
              "      <td>31222</td>\n",
              "      <td>New York Ave &amp; 15th St NW</td>\n",
              "      <td>31214</td>\n",
              "      <td>17th &amp; Corcoran St NW</td>\n",
              "      <td>W21427</td>\n",
              "      <td>Member</td>\n",
              "    </tr>\n",
              "    <tr>\n",
              "      <th>3</th>\n",
              "      <td>213</td>\n",
              "      <td>2016-01-01 00:15:29</td>\n",
              "      <td>2016-01-01 00:19:03</td>\n",
              "      <td>31506</td>\n",
              "      <td>1st &amp; Rhode Island Ave NW</td>\n",
              "      <td>31509</td>\n",
              "      <td>New Jersey Ave &amp; R St NW</td>\n",
              "      <td>W01294</td>\n",
              "      <td>Member</td>\n",
              "    </tr>\n",
              "    <tr>\n",
              "      <th>4</th>\n",
              "      <td>872</td>\n",
              "      <td>2016-01-01 00:16:16</td>\n",
              "      <td>2016-01-01 00:30:49</td>\n",
              "      <td>31041</td>\n",
              "      <td>Prince St &amp; Union St</td>\n",
              "      <td>31048</td>\n",
              "      <td>King St Metro South</td>\n",
              "      <td>W22058</td>\n",
              "      <td>Member</td>\n",
              "    </tr>\n",
              "  </tbody>\n",
              "</table>\n",
              "</div>\n",
              "    <div class=\"colab-df-buttons\">\n",
              "\n",
              "  <div class=\"colab-df-container\">\n",
              "    <button class=\"colab-df-convert\" onclick=\"convertToInteractive('df-5808934b-1501-484b-b3b1-b6c2d137a347')\"\n",
              "            title=\"Convert this dataframe to an interactive table.\"\n",
              "            style=\"display:none;\">\n",
              "\n",
              "  <svg xmlns=\"http://www.w3.org/2000/svg\" height=\"24px\" viewBox=\"0 -960 960 960\">\n",
              "    <path d=\"M120-120v-720h720v720H120Zm60-500h600v-160H180v160Zm220 220h160v-160H400v160Zm0 220h160v-160H400v160ZM180-400h160v-160H180v160Zm440 0h160v-160H620v160ZM180-180h160v-160H180v160Zm440 0h160v-160H620v160Z\"/>\n",
              "  </svg>\n",
              "    </button>\n",
              "\n",
              "  <style>\n",
              "    .colab-df-container {\n",
              "      display:flex;\n",
              "      gap: 12px;\n",
              "    }\n",
              "\n",
              "    .colab-df-convert {\n",
              "      background-color: #E8F0FE;\n",
              "      border: none;\n",
              "      border-radius: 50%;\n",
              "      cursor: pointer;\n",
              "      display: none;\n",
              "      fill: #1967D2;\n",
              "      height: 32px;\n",
              "      padding: 0 0 0 0;\n",
              "      width: 32px;\n",
              "    }\n",
              "\n",
              "    .colab-df-convert:hover {\n",
              "      background-color: #E2EBFA;\n",
              "      box-shadow: 0px 1px 2px rgba(60, 64, 67, 0.3), 0px 1px 3px 1px rgba(60, 64, 67, 0.15);\n",
              "      fill: #174EA6;\n",
              "    }\n",
              "\n",
              "    .colab-df-buttons div {\n",
              "      margin-bottom: 4px;\n",
              "    }\n",
              "\n",
              "    [theme=dark] .colab-df-convert {\n",
              "      background-color: #3B4455;\n",
              "      fill: #D2E3FC;\n",
              "    }\n",
              "\n",
              "    [theme=dark] .colab-df-convert:hover {\n",
              "      background-color: #434B5C;\n",
              "      box-shadow: 0px 1px 3px 1px rgba(0, 0, 0, 0.15);\n",
              "      filter: drop-shadow(0px 1px 2px rgba(0, 0, 0, 0.3));\n",
              "      fill: #FFFFFF;\n",
              "    }\n",
              "  </style>\n",
              "\n",
              "    <script>\n",
              "      const buttonEl =\n",
              "        document.querySelector('#df-5808934b-1501-484b-b3b1-b6c2d137a347 button.colab-df-convert');\n",
              "      buttonEl.style.display =\n",
              "        google.colab.kernel.accessAllowed ? 'block' : 'none';\n",
              "\n",
              "      async function convertToInteractive(key) {\n",
              "        const element = document.querySelector('#df-5808934b-1501-484b-b3b1-b6c2d137a347');\n",
              "        const dataTable =\n",
              "          await google.colab.kernel.invokeFunction('convertToInteractive',\n",
              "                                                    [key], {});\n",
              "        if (!dataTable) return;\n",
              "\n",
              "        const docLinkHtml = 'Like what you see? Visit the ' +\n",
              "          '<a target=\"_blank\" href=https://colab.research.google.com/notebooks/data_table.ipynb>data table notebook</a>'\n",
              "          + ' to learn more about interactive tables.';\n",
              "        element.innerHTML = '';\n",
              "        dataTable['output_type'] = 'display_data';\n",
              "        await google.colab.output.renderOutput(dataTable, element);\n",
              "        const docLink = document.createElement('div');\n",
              "        docLink.innerHTML = docLinkHtml;\n",
              "        element.appendChild(docLink);\n",
              "      }\n",
              "    </script>\n",
              "  </div>\n",
              "\n",
              "\n",
              "<div id=\"df-b061f63b-7240-4195-ab68-312aab5cacda\">\n",
              "  <button class=\"colab-df-quickchart\" onclick=\"quickchart('df-b061f63b-7240-4195-ab68-312aab5cacda')\"\n",
              "            title=\"Suggest charts\"\n",
              "            style=\"display:none;\">\n",
              "\n",
              "<svg xmlns=\"http://www.w3.org/2000/svg\" height=\"24px\"viewBox=\"0 0 24 24\"\n",
              "     width=\"24px\">\n",
              "    <g>\n",
              "        <path d=\"M19 3H5c-1.1 0-2 .9-2 2v14c0 1.1.9 2 2 2h14c1.1 0 2-.9 2-2V5c0-1.1-.9-2-2-2zM9 17H7v-7h2v7zm4 0h-2V7h2v10zm4 0h-2v-4h2v4z\"/>\n",
              "    </g>\n",
              "</svg>\n",
              "  </button>\n",
              "\n",
              "<style>\n",
              "  .colab-df-quickchart {\n",
              "      --bg-color: #E8F0FE;\n",
              "      --fill-color: #1967D2;\n",
              "      --hover-bg-color: #E2EBFA;\n",
              "      --hover-fill-color: #174EA6;\n",
              "      --disabled-fill-color: #AAA;\n",
              "      --disabled-bg-color: #DDD;\n",
              "  }\n",
              "\n",
              "  [theme=dark] .colab-df-quickchart {\n",
              "      --bg-color: #3B4455;\n",
              "      --fill-color: #D2E3FC;\n",
              "      --hover-bg-color: #434B5C;\n",
              "      --hover-fill-color: #FFFFFF;\n",
              "      --disabled-bg-color: #3B4455;\n",
              "      --disabled-fill-color: #666;\n",
              "  }\n",
              "\n",
              "  .colab-df-quickchart {\n",
              "    background-color: var(--bg-color);\n",
              "    border: none;\n",
              "    border-radius: 50%;\n",
              "    cursor: pointer;\n",
              "    display: none;\n",
              "    fill: var(--fill-color);\n",
              "    height: 32px;\n",
              "    padding: 0;\n",
              "    width: 32px;\n",
              "  }\n",
              "\n",
              "  .colab-df-quickchart:hover {\n",
              "    background-color: var(--hover-bg-color);\n",
              "    box-shadow: 0 1px 2px rgba(60, 64, 67, 0.3), 0 1px 3px 1px rgba(60, 64, 67, 0.15);\n",
              "    fill: var(--button-hover-fill-color);\n",
              "  }\n",
              "\n",
              "  .colab-df-quickchart-complete:disabled,\n",
              "  .colab-df-quickchart-complete:disabled:hover {\n",
              "    background-color: var(--disabled-bg-color);\n",
              "    fill: var(--disabled-fill-color);\n",
              "    box-shadow: none;\n",
              "  }\n",
              "\n",
              "  .colab-df-spinner {\n",
              "    border: 2px solid var(--fill-color);\n",
              "    border-color: transparent;\n",
              "    border-bottom-color: var(--fill-color);\n",
              "    animation:\n",
              "      spin 1s steps(1) infinite;\n",
              "  }\n",
              "\n",
              "  @keyframes spin {\n",
              "    0% {\n",
              "      border-color: transparent;\n",
              "      border-bottom-color: var(--fill-color);\n",
              "      border-left-color: var(--fill-color);\n",
              "    }\n",
              "    20% {\n",
              "      border-color: transparent;\n",
              "      border-left-color: var(--fill-color);\n",
              "      border-top-color: var(--fill-color);\n",
              "    }\n",
              "    30% {\n",
              "      border-color: transparent;\n",
              "      border-left-color: var(--fill-color);\n",
              "      border-top-color: var(--fill-color);\n",
              "      border-right-color: var(--fill-color);\n",
              "    }\n",
              "    40% {\n",
              "      border-color: transparent;\n",
              "      border-right-color: var(--fill-color);\n",
              "      border-top-color: var(--fill-color);\n",
              "    }\n",
              "    60% {\n",
              "      border-color: transparent;\n",
              "      border-right-color: var(--fill-color);\n",
              "    }\n",
              "    80% {\n",
              "      border-color: transparent;\n",
              "      border-right-color: var(--fill-color);\n",
              "      border-bottom-color: var(--fill-color);\n",
              "    }\n",
              "    90% {\n",
              "      border-color: transparent;\n",
              "      border-bottom-color: var(--fill-color);\n",
              "    }\n",
              "  }\n",
              "</style>\n",
              "\n",
              "  <script>\n",
              "    async function quickchart(key) {\n",
              "      const quickchartButtonEl =\n",
              "        document.querySelector('#' + key + ' button');\n",
              "      quickchartButtonEl.disabled = true;  // To prevent multiple clicks.\n",
              "      quickchartButtonEl.classList.add('colab-df-spinner');\n",
              "      try {\n",
              "        const charts = await google.colab.kernel.invokeFunction(\n",
              "            'suggestCharts', [key], {});\n",
              "      } catch (error) {\n",
              "        console.error('Error during call to suggestCharts:', error);\n",
              "      }\n",
              "      quickchartButtonEl.classList.remove('colab-df-spinner');\n",
              "      quickchartButtonEl.classList.add('colab-df-quickchart-complete');\n",
              "    }\n",
              "    (() => {\n",
              "      let quickchartButtonEl =\n",
              "        document.querySelector('#df-b061f63b-7240-4195-ab68-312aab5cacda button');\n",
              "      quickchartButtonEl.style.display =\n",
              "        google.colab.kernel.accessAllowed ? 'block' : 'none';\n",
              "    })();\n",
              "  </script>\n",
              "</div>\n",
              "\n",
              "    </div>\n",
              "  </div>\n"
            ],
            "application/vnd.google.colaboratory.intrinsic+json": {
              "type": "dataframe",
              "variable_name": "combined_df"
            }
          },
          "metadata": {},
          "execution_count": 7
        }
      ]
    },
    {
      "cell_type": "code",
      "source": [
        "# checking tails\n",
        "combined_df.tail()"
      ],
      "metadata": {
        "colab": {
          "base_uri": "https://localhost:8080/",
          "height": 0
        },
        "id": "La3CTADt1zBW",
        "outputId": "14eb568d-6608-44a8-93c4-6f76fe455bcd"
      },
      "execution_count": 8,
      "outputs": [
        {
          "output_type": "execute_result",
          "data": {
            "text/plain": [
              "          Duration           Start date             End date  \\\n",
              "10634450      3313  2018-12-31 23:37:22  2019-01-01 00:32:36   \n",
              "10634451       888  2018-12-31 23:42:18  2018-12-31 23:57:07   \n",
              "10634452      2332  2018-12-31 23:44:23  2019-01-01 00:23:16   \n",
              "10634453       307  2018-12-31 23:52:42  2018-12-31 23:57:50   \n",
              "10634454      1062  2018-12-31 23:54:09  2019-01-01 00:11:52   \n",
              "\n",
              "          Start station number               Start station  \\\n",
              "10634450                 31615               6th & H St NE   \n",
              "10634451                 31618    4th & East Capitol St NE   \n",
              "10634452                 31907  Franklin & S Washington St   \n",
              "10634453                 31114    18th St & Wyoming Ave NW   \n",
              "10634454                 31110    20th St & Florida Ave NW   \n",
              "\n",
              "          End station number                 End station Bike number  \\\n",
              "10634450               31624  North Capitol St & F St NW      W00159   \n",
              "10634451               31509    New Jersey Ave & R St NW      W22026   \n",
              "10634452               32406    Fleet St & Waterfront St      W23900   \n",
              "10634453               31103        16th & Harvard St NW      W00761   \n",
              "10634454               31014        Lynn & 19th St North      W21324   \n",
              "\n",
              "         Member type  \n",
              "10634450      Member  \n",
              "10634451      Member  \n",
              "10634452      Member  \n",
              "10634453      Member  \n",
              "10634454      Member  "
            ],
            "text/html": [
              "\n",
              "  <div id=\"df-117d9831-fb4e-4ee6-9953-450bd850a8a8\" class=\"colab-df-container\">\n",
              "    <div>\n",
              "<style scoped>\n",
              "    .dataframe tbody tr th:only-of-type {\n",
              "        vertical-align: middle;\n",
              "    }\n",
              "\n",
              "    .dataframe tbody tr th {\n",
              "        vertical-align: top;\n",
              "    }\n",
              "\n",
              "    .dataframe thead th {\n",
              "        text-align: right;\n",
              "    }\n",
              "</style>\n",
              "<table border=\"1\" class=\"dataframe\">\n",
              "  <thead>\n",
              "    <tr style=\"text-align: right;\">\n",
              "      <th></th>\n",
              "      <th>Duration</th>\n",
              "      <th>Start date</th>\n",
              "      <th>End date</th>\n",
              "      <th>Start station number</th>\n",
              "      <th>Start station</th>\n",
              "      <th>End station number</th>\n",
              "      <th>End station</th>\n",
              "      <th>Bike number</th>\n",
              "      <th>Member type</th>\n",
              "    </tr>\n",
              "  </thead>\n",
              "  <tbody>\n",
              "    <tr>\n",
              "      <th>10634450</th>\n",
              "      <td>3313</td>\n",
              "      <td>2018-12-31 23:37:22</td>\n",
              "      <td>2019-01-01 00:32:36</td>\n",
              "      <td>31615</td>\n",
              "      <td>6th &amp; H St NE</td>\n",
              "      <td>31624</td>\n",
              "      <td>North Capitol St &amp; F St NW</td>\n",
              "      <td>W00159</td>\n",
              "      <td>Member</td>\n",
              "    </tr>\n",
              "    <tr>\n",
              "      <th>10634451</th>\n",
              "      <td>888</td>\n",
              "      <td>2018-12-31 23:42:18</td>\n",
              "      <td>2018-12-31 23:57:07</td>\n",
              "      <td>31618</td>\n",
              "      <td>4th &amp; East Capitol St NE</td>\n",
              "      <td>31509</td>\n",
              "      <td>New Jersey Ave &amp; R St NW</td>\n",
              "      <td>W22026</td>\n",
              "      <td>Member</td>\n",
              "    </tr>\n",
              "    <tr>\n",
              "      <th>10634452</th>\n",
              "      <td>2332</td>\n",
              "      <td>2018-12-31 23:44:23</td>\n",
              "      <td>2019-01-01 00:23:16</td>\n",
              "      <td>31907</td>\n",
              "      <td>Franklin &amp; S Washington St</td>\n",
              "      <td>32406</td>\n",
              "      <td>Fleet St &amp; Waterfront St</td>\n",
              "      <td>W23900</td>\n",
              "      <td>Member</td>\n",
              "    </tr>\n",
              "    <tr>\n",
              "      <th>10634453</th>\n",
              "      <td>307</td>\n",
              "      <td>2018-12-31 23:52:42</td>\n",
              "      <td>2018-12-31 23:57:50</td>\n",
              "      <td>31114</td>\n",
              "      <td>18th St &amp; Wyoming Ave NW</td>\n",
              "      <td>31103</td>\n",
              "      <td>16th &amp; Harvard St NW</td>\n",
              "      <td>W00761</td>\n",
              "      <td>Member</td>\n",
              "    </tr>\n",
              "    <tr>\n",
              "      <th>10634454</th>\n",
              "      <td>1062</td>\n",
              "      <td>2018-12-31 23:54:09</td>\n",
              "      <td>2019-01-01 00:11:52</td>\n",
              "      <td>31110</td>\n",
              "      <td>20th St &amp; Florida Ave NW</td>\n",
              "      <td>31014</td>\n",
              "      <td>Lynn &amp; 19th St North</td>\n",
              "      <td>W21324</td>\n",
              "      <td>Member</td>\n",
              "    </tr>\n",
              "  </tbody>\n",
              "</table>\n",
              "</div>\n",
              "    <div class=\"colab-df-buttons\">\n",
              "\n",
              "  <div class=\"colab-df-container\">\n",
              "    <button class=\"colab-df-convert\" onclick=\"convertToInteractive('df-117d9831-fb4e-4ee6-9953-450bd850a8a8')\"\n",
              "            title=\"Convert this dataframe to an interactive table.\"\n",
              "            style=\"display:none;\">\n",
              "\n",
              "  <svg xmlns=\"http://www.w3.org/2000/svg\" height=\"24px\" viewBox=\"0 -960 960 960\">\n",
              "    <path d=\"M120-120v-720h720v720H120Zm60-500h600v-160H180v160Zm220 220h160v-160H400v160Zm0 220h160v-160H400v160ZM180-400h160v-160H180v160Zm440 0h160v-160H620v160ZM180-180h160v-160H180v160Zm440 0h160v-160H620v160Z\"/>\n",
              "  </svg>\n",
              "    </button>\n",
              "\n",
              "  <style>\n",
              "    .colab-df-container {\n",
              "      display:flex;\n",
              "      gap: 12px;\n",
              "    }\n",
              "\n",
              "    .colab-df-convert {\n",
              "      background-color: #E8F0FE;\n",
              "      border: none;\n",
              "      border-radius: 50%;\n",
              "      cursor: pointer;\n",
              "      display: none;\n",
              "      fill: #1967D2;\n",
              "      height: 32px;\n",
              "      padding: 0 0 0 0;\n",
              "      width: 32px;\n",
              "    }\n",
              "\n",
              "    .colab-df-convert:hover {\n",
              "      background-color: #E2EBFA;\n",
              "      box-shadow: 0px 1px 2px rgba(60, 64, 67, 0.3), 0px 1px 3px 1px rgba(60, 64, 67, 0.15);\n",
              "      fill: #174EA6;\n",
              "    }\n",
              "\n",
              "    .colab-df-buttons div {\n",
              "      margin-bottom: 4px;\n",
              "    }\n",
              "\n",
              "    [theme=dark] .colab-df-convert {\n",
              "      background-color: #3B4455;\n",
              "      fill: #D2E3FC;\n",
              "    }\n",
              "\n",
              "    [theme=dark] .colab-df-convert:hover {\n",
              "      background-color: #434B5C;\n",
              "      box-shadow: 0px 1px 3px 1px rgba(0, 0, 0, 0.15);\n",
              "      filter: drop-shadow(0px 1px 2px rgba(0, 0, 0, 0.3));\n",
              "      fill: #FFFFFF;\n",
              "    }\n",
              "  </style>\n",
              "\n",
              "    <script>\n",
              "      const buttonEl =\n",
              "        document.querySelector('#df-117d9831-fb4e-4ee6-9953-450bd850a8a8 button.colab-df-convert');\n",
              "      buttonEl.style.display =\n",
              "        google.colab.kernel.accessAllowed ? 'block' : 'none';\n",
              "\n",
              "      async function convertToInteractive(key) {\n",
              "        const element = document.querySelector('#df-117d9831-fb4e-4ee6-9953-450bd850a8a8');\n",
              "        const dataTable =\n",
              "          await google.colab.kernel.invokeFunction('convertToInteractive',\n",
              "                                                    [key], {});\n",
              "        if (!dataTable) return;\n",
              "\n",
              "        const docLinkHtml = 'Like what you see? Visit the ' +\n",
              "          '<a target=\"_blank\" href=https://colab.research.google.com/notebooks/data_table.ipynb>data table notebook</a>'\n",
              "          + ' to learn more about interactive tables.';\n",
              "        element.innerHTML = '';\n",
              "        dataTable['output_type'] = 'display_data';\n",
              "        await google.colab.output.renderOutput(dataTable, element);\n",
              "        const docLink = document.createElement('div');\n",
              "        docLink.innerHTML = docLinkHtml;\n",
              "        element.appendChild(docLink);\n",
              "      }\n",
              "    </script>\n",
              "  </div>\n",
              "\n",
              "\n",
              "<div id=\"df-af34beb1-185c-49e7-b90c-bfe0a61f2e20\">\n",
              "  <button class=\"colab-df-quickchart\" onclick=\"quickchart('df-af34beb1-185c-49e7-b90c-bfe0a61f2e20')\"\n",
              "            title=\"Suggest charts\"\n",
              "            style=\"display:none;\">\n",
              "\n",
              "<svg xmlns=\"http://www.w3.org/2000/svg\" height=\"24px\"viewBox=\"0 0 24 24\"\n",
              "     width=\"24px\">\n",
              "    <g>\n",
              "        <path d=\"M19 3H5c-1.1 0-2 .9-2 2v14c0 1.1.9 2 2 2h14c1.1 0 2-.9 2-2V5c0-1.1-.9-2-2-2zM9 17H7v-7h2v7zm4 0h-2V7h2v10zm4 0h-2v-4h2v4z\"/>\n",
              "    </g>\n",
              "</svg>\n",
              "  </button>\n",
              "\n",
              "<style>\n",
              "  .colab-df-quickchart {\n",
              "      --bg-color: #E8F0FE;\n",
              "      --fill-color: #1967D2;\n",
              "      --hover-bg-color: #E2EBFA;\n",
              "      --hover-fill-color: #174EA6;\n",
              "      --disabled-fill-color: #AAA;\n",
              "      --disabled-bg-color: #DDD;\n",
              "  }\n",
              "\n",
              "  [theme=dark] .colab-df-quickchart {\n",
              "      --bg-color: #3B4455;\n",
              "      --fill-color: #D2E3FC;\n",
              "      --hover-bg-color: #434B5C;\n",
              "      --hover-fill-color: #FFFFFF;\n",
              "      --disabled-bg-color: #3B4455;\n",
              "      --disabled-fill-color: #666;\n",
              "  }\n",
              "\n",
              "  .colab-df-quickchart {\n",
              "    background-color: var(--bg-color);\n",
              "    border: none;\n",
              "    border-radius: 50%;\n",
              "    cursor: pointer;\n",
              "    display: none;\n",
              "    fill: var(--fill-color);\n",
              "    height: 32px;\n",
              "    padding: 0;\n",
              "    width: 32px;\n",
              "  }\n",
              "\n",
              "  .colab-df-quickchart:hover {\n",
              "    background-color: var(--hover-bg-color);\n",
              "    box-shadow: 0 1px 2px rgba(60, 64, 67, 0.3), 0 1px 3px 1px rgba(60, 64, 67, 0.15);\n",
              "    fill: var(--button-hover-fill-color);\n",
              "  }\n",
              "\n",
              "  .colab-df-quickchart-complete:disabled,\n",
              "  .colab-df-quickchart-complete:disabled:hover {\n",
              "    background-color: var(--disabled-bg-color);\n",
              "    fill: var(--disabled-fill-color);\n",
              "    box-shadow: none;\n",
              "  }\n",
              "\n",
              "  .colab-df-spinner {\n",
              "    border: 2px solid var(--fill-color);\n",
              "    border-color: transparent;\n",
              "    border-bottom-color: var(--fill-color);\n",
              "    animation:\n",
              "      spin 1s steps(1) infinite;\n",
              "  }\n",
              "\n",
              "  @keyframes spin {\n",
              "    0% {\n",
              "      border-color: transparent;\n",
              "      border-bottom-color: var(--fill-color);\n",
              "      border-left-color: var(--fill-color);\n",
              "    }\n",
              "    20% {\n",
              "      border-color: transparent;\n",
              "      border-left-color: var(--fill-color);\n",
              "      border-top-color: var(--fill-color);\n",
              "    }\n",
              "    30% {\n",
              "      border-color: transparent;\n",
              "      border-left-color: var(--fill-color);\n",
              "      border-top-color: var(--fill-color);\n",
              "      border-right-color: var(--fill-color);\n",
              "    }\n",
              "    40% {\n",
              "      border-color: transparent;\n",
              "      border-right-color: var(--fill-color);\n",
              "      border-top-color: var(--fill-color);\n",
              "    }\n",
              "    60% {\n",
              "      border-color: transparent;\n",
              "      border-right-color: var(--fill-color);\n",
              "    }\n",
              "    80% {\n",
              "      border-color: transparent;\n",
              "      border-right-color: var(--fill-color);\n",
              "      border-bottom-color: var(--fill-color);\n",
              "    }\n",
              "    90% {\n",
              "      border-color: transparent;\n",
              "      border-bottom-color: var(--fill-color);\n",
              "    }\n",
              "  }\n",
              "</style>\n",
              "\n",
              "  <script>\n",
              "    async function quickchart(key) {\n",
              "      const quickchartButtonEl =\n",
              "        document.querySelector('#' + key + ' button');\n",
              "      quickchartButtonEl.disabled = true;  // To prevent multiple clicks.\n",
              "      quickchartButtonEl.classList.add('colab-df-spinner');\n",
              "      try {\n",
              "        const charts = await google.colab.kernel.invokeFunction(\n",
              "            'suggestCharts', [key], {});\n",
              "      } catch (error) {\n",
              "        console.error('Error during call to suggestCharts:', error);\n",
              "      }\n",
              "      quickchartButtonEl.classList.remove('colab-df-spinner');\n",
              "      quickchartButtonEl.classList.add('colab-df-quickchart-complete');\n",
              "    }\n",
              "    (() => {\n",
              "      let quickchartButtonEl =\n",
              "        document.querySelector('#df-af34beb1-185c-49e7-b90c-bfe0a61f2e20 button');\n",
              "      quickchartButtonEl.style.display =\n",
              "        google.colab.kernel.accessAllowed ? 'block' : 'none';\n",
              "    })();\n",
              "  </script>\n",
              "</div>\n",
              "\n",
              "    </div>\n",
              "  </div>\n"
            ],
            "application/vnd.google.colaboratory.intrinsic+json": {
              "type": "dataframe",
              "repr_error": "0"
            }
          },
          "metadata": {},
          "execution_count": 8
        }
      ]
    },
    {
      "cell_type": "code",
      "source": [
        "# for future reference and convience, saving the merged DataFrame as a new CSV\n",
        "output_path = '/content/drive/My Drive/Group Project/combined_dataset.csv'\n",
        "combined_df.to_csv(output_path, index=False)\n",
        "print(f\"Combined dataset saved to {output_path}\")\n"
      ],
      "metadata": {
        "colab": {
          "base_uri": "https://localhost:8080/"
        },
        "id": "LZ7i00eh1PhO",
        "outputId": "2d61b35f-9995-4274-9045-6ab49f27d138"
      },
      "execution_count": 9,
      "outputs": [
        {
          "output_type": "stream",
          "name": "stdout",
          "text": [
            "Combined dataset saved to /content/drive/My Drive/Group Project/combined_dataset.csv\n"
          ]
        }
      ]
    },
    {
      "cell_type": "markdown",
      "source": [
        "\n",
        "\n",
        "---\n",
        "\n",
        "\n",
        "# Having a look at the merged dataset"
      ],
      "metadata": {
        "id": "TsVFAMvI3IOP"
      }
    },
    {
      "cell_type": "code",
      "source": [
        "# check number of columns and rows\n",
        "combined_df.shape\n",
        "\n"
      ],
      "metadata": {
        "colab": {
          "base_uri": "https://localhost:8080/"
        },
        "id": "WWdysP3F2Bji",
        "outputId": "559cad6c-29c1-456b-878a-ce550eeb02ac"
      },
      "execution_count": 10,
      "outputs": [
        {
          "output_type": "execute_result",
          "data": {
            "text/plain": [
              "(10634455, 9)"
            ]
          },
          "metadata": {},
          "execution_count": 10
        }
      ]
    },
    {
      "cell_type": "code",
      "source": [
        "# checking column names\n",
        "combined_df.columns.tolist()\n"
      ],
      "metadata": {
        "colab": {
          "base_uri": "https://localhost:8080/"
        },
        "id": "-nYDWZNs2Ias",
        "outputId": "351a364d-e04f-4692-9f48-434bfd0a3a3c"
      },
      "execution_count": 11,
      "outputs": [
        {
          "output_type": "execute_result",
          "data": {
            "text/plain": [
              "['Duration',\n",
              " 'Start date',\n",
              " 'End date',\n",
              " 'Start station number',\n",
              " 'Start station',\n",
              " 'End station number',\n",
              " 'End station',\n",
              " 'Bike number',\n",
              " 'Member type']"
            ]
          },
          "metadata": {},
          "execution_count": 11
        }
      ]
    },
    {
      "cell_type": "code",
      "source": [
        "# checking data types\n",
        "print(\"Data types of each column:\\n\", combined_df.dtypes)\n"
      ],
      "metadata": {
        "colab": {
          "base_uri": "https://localhost:8080/"
        },
        "id": "AIiHggcs2MUw",
        "outputId": "3310c008-a31d-42f9-9a5d-a713934907cc"
      },
      "execution_count": 12,
      "outputs": [
        {
          "output_type": "stream",
          "name": "stdout",
          "text": [
            "Data types of each column:\n",
            " Duration                 int64\n",
            "Start date              object\n",
            "End date                object\n",
            "Start station number     int64\n",
            "Start station           object\n",
            "End station number       int64\n",
            "End station             object\n",
            "Bike number             object\n",
            "Member type             object\n",
            "dtype: object\n"
          ]
        }
      ]
    },
    {
      "cell_type": "code",
      "source": [
        "# preview\n",
        "combined_df.head()\n"
      ],
      "metadata": {
        "colab": {
          "base_uri": "https://localhost:8080/",
          "height": 0
        },
        "id": "8gInPokY2No3",
        "outputId": "c17eeead-ae5d-4180-e95c-8eba94d95888"
      },
      "execution_count": 13,
      "outputs": [
        {
          "output_type": "execute_result",
          "data": {
            "text/plain": [
              "   Duration           Start date             End date  Start station number  \\\n",
              "0       166  2016-01-01 00:06:58  2016-01-01 00:09:44                 31102   \n",
              "1       448  2016-01-01 00:10:20  2016-01-01 00:17:48                 32039   \n",
              "2       715  2016-01-01 00:13:52  2016-01-01 00:25:48                 31222   \n",
              "3       213  2016-01-01 00:15:29  2016-01-01 00:19:03                 31506   \n",
              "4       872  2016-01-01 00:16:16  2016-01-01 00:30:49                 31041   \n",
              "\n",
              "                      Start station  End station number  \\\n",
              "0               11th & Kenyon St NW               31105   \n",
              "1  Old Georgetown Rd & Southwick St               32002   \n",
              "2         New York Ave & 15th St NW               31214   \n",
              "3         1st & Rhode Island Ave NW               31509   \n",
              "4              Prince St & Union St               31048   \n",
              "\n",
              "                   End station Bike number Member type  \n",
              "0         14th & Harvard St NW      W01346      Member  \n",
              "1  Bethesda Ave & Arlington Rd      W22202      Member  \n",
              "2        17th & Corcoran St NW      W21427      Member  \n",
              "3     New Jersey Ave & R St NW      W01294      Member  \n",
              "4          King St Metro South      W22058      Member  "
            ],
            "text/html": [
              "\n",
              "  <div id=\"df-41ef5a6d-769d-4709-8f44-58307b89090f\" class=\"colab-df-container\">\n",
              "    <div>\n",
              "<style scoped>\n",
              "    .dataframe tbody tr th:only-of-type {\n",
              "        vertical-align: middle;\n",
              "    }\n",
              "\n",
              "    .dataframe tbody tr th {\n",
              "        vertical-align: top;\n",
              "    }\n",
              "\n",
              "    .dataframe thead th {\n",
              "        text-align: right;\n",
              "    }\n",
              "</style>\n",
              "<table border=\"1\" class=\"dataframe\">\n",
              "  <thead>\n",
              "    <tr style=\"text-align: right;\">\n",
              "      <th></th>\n",
              "      <th>Duration</th>\n",
              "      <th>Start date</th>\n",
              "      <th>End date</th>\n",
              "      <th>Start station number</th>\n",
              "      <th>Start station</th>\n",
              "      <th>End station number</th>\n",
              "      <th>End station</th>\n",
              "      <th>Bike number</th>\n",
              "      <th>Member type</th>\n",
              "    </tr>\n",
              "  </thead>\n",
              "  <tbody>\n",
              "    <tr>\n",
              "      <th>0</th>\n",
              "      <td>166</td>\n",
              "      <td>2016-01-01 00:06:58</td>\n",
              "      <td>2016-01-01 00:09:44</td>\n",
              "      <td>31102</td>\n",
              "      <td>11th &amp; Kenyon St NW</td>\n",
              "      <td>31105</td>\n",
              "      <td>14th &amp; Harvard St NW</td>\n",
              "      <td>W01346</td>\n",
              "      <td>Member</td>\n",
              "    </tr>\n",
              "    <tr>\n",
              "      <th>1</th>\n",
              "      <td>448</td>\n",
              "      <td>2016-01-01 00:10:20</td>\n",
              "      <td>2016-01-01 00:17:48</td>\n",
              "      <td>32039</td>\n",
              "      <td>Old Georgetown Rd &amp; Southwick St</td>\n",
              "      <td>32002</td>\n",
              "      <td>Bethesda Ave &amp; Arlington Rd</td>\n",
              "      <td>W22202</td>\n",
              "      <td>Member</td>\n",
              "    </tr>\n",
              "    <tr>\n",
              "      <th>2</th>\n",
              "      <td>715</td>\n",
              "      <td>2016-01-01 00:13:52</td>\n",
              "      <td>2016-01-01 00:25:48</td>\n",
              "      <td>31222</td>\n",
              "      <td>New York Ave &amp; 15th St NW</td>\n",
              "      <td>31214</td>\n",
              "      <td>17th &amp; Corcoran St NW</td>\n",
              "      <td>W21427</td>\n",
              "      <td>Member</td>\n",
              "    </tr>\n",
              "    <tr>\n",
              "      <th>3</th>\n",
              "      <td>213</td>\n",
              "      <td>2016-01-01 00:15:29</td>\n",
              "      <td>2016-01-01 00:19:03</td>\n",
              "      <td>31506</td>\n",
              "      <td>1st &amp; Rhode Island Ave NW</td>\n",
              "      <td>31509</td>\n",
              "      <td>New Jersey Ave &amp; R St NW</td>\n",
              "      <td>W01294</td>\n",
              "      <td>Member</td>\n",
              "    </tr>\n",
              "    <tr>\n",
              "      <th>4</th>\n",
              "      <td>872</td>\n",
              "      <td>2016-01-01 00:16:16</td>\n",
              "      <td>2016-01-01 00:30:49</td>\n",
              "      <td>31041</td>\n",
              "      <td>Prince St &amp; Union St</td>\n",
              "      <td>31048</td>\n",
              "      <td>King St Metro South</td>\n",
              "      <td>W22058</td>\n",
              "      <td>Member</td>\n",
              "    </tr>\n",
              "  </tbody>\n",
              "</table>\n",
              "</div>\n",
              "    <div class=\"colab-df-buttons\">\n",
              "\n",
              "  <div class=\"colab-df-container\">\n",
              "    <button class=\"colab-df-convert\" onclick=\"convertToInteractive('df-41ef5a6d-769d-4709-8f44-58307b89090f')\"\n",
              "            title=\"Convert this dataframe to an interactive table.\"\n",
              "            style=\"display:none;\">\n",
              "\n",
              "  <svg xmlns=\"http://www.w3.org/2000/svg\" height=\"24px\" viewBox=\"0 -960 960 960\">\n",
              "    <path d=\"M120-120v-720h720v720H120Zm60-500h600v-160H180v160Zm220 220h160v-160H400v160Zm0 220h160v-160H400v160ZM180-400h160v-160H180v160Zm440 0h160v-160H620v160ZM180-180h160v-160H180v160Zm440 0h160v-160H620v160Z\"/>\n",
              "  </svg>\n",
              "    </button>\n",
              "\n",
              "  <style>\n",
              "    .colab-df-container {\n",
              "      display:flex;\n",
              "      gap: 12px;\n",
              "    }\n",
              "\n",
              "    .colab-df-convert {\n",
              "      background-color: #E8F0FE;\n",
              "      border: none;\n",
              "      border-radius: 50%;\n",
              "      cursor: pointer;\n",
              "      display: none;\n",
              "      fill: #1967D2;\n",
              "      height: 32px;\n",
              "      padding: 0 0 0 0;\n",
              "      width: 32px;\n",
              "    }\n",
              "\n",
              "    .colab-df-convert:hover {\n",
              "      background-color: #E2EBFA;\n",
              "      box-shadow: 0px 1px 2px rgba(60, 64, 67, 0.3), 0px 1px 3px 1px rgba(60, 64, 67, 0.15);\n",
              "      fill: #174EA6;\n",
              "    }\n",
              "\n",
              "    .colab-df-buttons div {\n",
              "      margin-bottom: 4px;\n",
              "    }\n",
              "\n",
              "    [theme=dark] .colab-df-convert {\n",
              "      background-color: #3B4455;\n",
              "      fill: #D2E3FC;\n",
              "    }\n",
              "\n",
              "    [theme=dark] .colab-df-convert:hover {\n",
              "      background-color: #434B5C;\n",
              "      box-shadow: 0px 1px 3px 1px rgba(0, 0, 0, 0.15);\n",
              "      filter: drop-shadow(0px 1px 2px rgba(0, 0, 0, 0.3));\n",
              "      fill: #FFFFFF;\n",
              "    }\n",
              "  </style>\n",
              "\n",
              "    <script>\n",
              "      const buttonEl =\n",
              "        document.querySelector('#df-41ef5a6d-769d-4709-8f44-58307b89090f button.colab-df-convert');\n",
              "      buttonEl.style.display =\n",
              "        google.colab.kernel.accessAllowed ? 'block' : 'none';\n",
              "\n",
              "      async function convertToInteractive(key) {\n",
              "        const element = document.querySelector('#df-41ef5a6d-769d-4709-8f44-58307b89090f');\n",
              "        const dataTable =\n",
              "          await google.colab.kernel.invokeFunction('convertToInteractive',\n",
              "                                                    [key], {});\n",
              "        if (!dataTable) return;\n",
              "\n",
              "        const docLinkHtml = 'Like what you see? Visit the ' +\n",
              "          '<a target=\"_blank\" href=https://colab.research.google.com/notebooks/data_table.ipynb>data table notebook</a>'\n",
              "          + ' to learn more about interactive tables.';\n",
              "        element.innerHTML = '';\n",
              "        dataTable['output_type'] = 'display_data';\n",
              "        await google.colab.output.renderOutput(dataTable, element);\n",
              "        const docLink = document.createElement('div');\n",
              "        docLink.innerHTML = docLinkHtml;\n",
              "        element.appendChild(docLink);\n",
              "      }\n",
              "    </script>\n",
              "  </div>\n",
              "\n",
              "\n",
              "<div id=\"df-d45e9b43-6116-4242-aec3-99285bd2974e\">\n",
              "  <button class=\"colab-df-quickchart\" onclick=\"quickchart('df-d45e9b43-6116-4242-aec3-99285bd2974e')\"\n",
              "            title=\"Suggest charts\"\n",
              "            style=\"display:none;\">\n",
              "\n",
              "<svg xmlns=\"http://www.w3.org/2000/svg\" height=\"24px\"viewBox=\"0 0 24 24\"\n",
              "     width=\"24px\">\n",
              "    <g>\n",
              "        <path d=\"M19 3H5c-1.1 0-2 .9-2 2v14c0 1.1.9 2 2 2h14c1.1 0 2-.9 2-2V5c0-1.1-.9-2-2-2zM9 17H7v-7h2v7zm4 0h-2V7h2v10zm4 0h-2v-4h2v4z\"/>\n",
              "    </g>\n",
              "</svg>\n",
              "  </button>\n",
              "\n",
              "<style>\n",
              "  .colab-df-quickchart {\n",
              "      --bg-color: #E8F0FE;\n",
              "      --fill-color: #1967D2;\n",
              "      --hover-bg-color: #E2EBFA;\n",
              "      --hover-fill-color: #174EA6;\n",
              "      --disabled-fill-color: #AAA;\n",
              "      --disabled-bg-color: #DDD;\n",
              "  }\n",
              "\n",
              "  [theme=dark] .colab-df-quickchart {\n",
              "      --bg-color: #3B4455;\n",
              "      --fill-color: #D2E3FC;\n",
              "      --hover-bg-color: #434B5C;\n",
              "      --hover-fill-color: #FFFFFF;\n",
              "      --disabled-bg-color: #3B4455;\n",
              "      --disabled-fill-color: #666;\n",
              "  }\n",
              "\n",
              "  .colab-df-quickchart {\n",
              "    background-color: var(--bg-color);\n",
              "    border: none;\n",
              "    border-radius: 50%;\n",
              "    cursor: pointer;\n",
              "    display: none;\n",
              "    fill: var(--fill-color);\n",
              "    height: 32px;\n",
              "    padding: 0;\n",
              "    width: 32px;\n",
              "  }\n",
              "\n",
              "  .colab-df-quickchart:hover {\n",
              "    background-color: var(--hover-bg-color);\n",
              "    box-shadow: 0 1px 2px rgba(60, 64, 67, 0.3), 0 1px 3px 1px rgba(60, 64, 67, 0.15);\n",
              "    fill: var(--button-hover-fill-color);\n",
              "  }\n",
              "\n",
              "  .colab-df-quickchart-complete:disabled,\n",
              "  .colab-df-quickchart-complete:disabled:hover {\n",
              "    background-color: var(--disabled-bg-color);\n",
              "    fill: var(--disabled-fill-color);\n",
              "    box-shadow: none;\n",
              "  }\n",
              "\n",
              "  .colab-df-spinner {\n",
              "    border: 2px solid var(--fill-color);\n",
              "    border-color: transparent;\n",
              "    border-bottom-color: var(--fill-color);\n",
              "    animation:\n",
              "      spin 1s steps(1) infinite;\n",
              "  }\n",
              "\n",
              "  @keyframes spin {\n",
              "    0% {\n",
              "      border-color: transparent;\n",
              "      border-bottom-color: var(--fill-color);\n",
              "      border-left-color: var(--fill-color);\n",
              "    }\n",
              "    20% {\n",
              "      border-color: transparent;\n",
              "      border-left-color: var(--fill-color);\n",
              "      border-top-color: var(--fill-color);\n",
              "    }\n",
              "    30% {\n",
              "      border-color: transparent;\n",
              "      border-left-color: var(--fill-color);\n",
              "      border-top-color: var(--fill-color);\n",
              "      border-right-color: var(--fill-color);\n",
              "    }\n",
              "    40% {\n",
              "      border-color: transparent;\n",
              "      border-right-color: var(--fill-color);\n",
              "      border-top-color: var(--fill-color);\n",
              "    }\n",
              "    60% {\n",
              "      border-color: transparent;\n",
              "      border-right-color: var(--fill-color);\n",
              "    }\n",
              "    80% {\n",
              "      border-color: transparent;\n",
              "      border-right-color: var(--fill-color);\n",
              "      border-bottom-color: var(--fill-color);\n",
              "    }\n",
              "    90% {\n",
              "      border-color: transparent;\n",
              "      border-bottom-color: var(--fill-color);\n",
              "    }\n",
              "  }\n",
              "</style>\n",
              "\n",
              "  <script>\n",
              "    async function quickchart(key) {\n",
              "      const quickchartButtonEl =\n",
              "        document.querySelector('#' + key + ' button');\n",
              "      quickchartButtonEl.disabled = true;  // To prevent multiple clicks.\n",
              "      quickchartButtonEl.classList.add('colab-df-spinner');\n",
              "      try {\n",
              "        const charts = await google.colab.kernel.invokeFunction(\n",
              "            'suggestCharts', [key], {});\n",
              "      } catch (error) {\n",
              "        console.error('Error during call to suggestCharts:', error);\n",
              "      }\n",
              "      quickchartButtonEl.classList.remove('colab-df-spinner');\n",
              "      quickchartButtonEl.classList.add('colab-df-quickchart-complete');\n",
              "    }\n",
              "    (() => {\n",
              "      let quickchartButtonEl =\n",
              "        document.querySelector('#df-d45e9b43-6116-4242-aec3-99285bd2974e button');\n",
              "      quickchartButtonEl.style.display =\n",
              "        google.colab.kernel.accessAllowed ? 'block' : 'none';\n",
              "    })();\n",
              "  </script>\n",
              "</div>\n",
              "\n",
              "    </div>\n",
              "  </div>\n"
            ],
            "application/vnd.google.colaboratory.intrinsic+json": {
              "type": "dataframe",
              "variable_name": "combined_df"
            }
          },
          "metadata": {},
          "execution_count": 13
        }
      ]
    },
    {
      "cell_type": "code",
      "source": [
        "# check summary statistics\n",
        "print(\"Summary statistics:\\n\", combined_df.describe())\n"
      ],
      "metadata": {
        "colab": {
          "base_uri": "https://localhost:8080/"
        },
        "id": "HDabDx4d2Qbx",
        "outputId": "627266bd-bd7a-43ad-9fbc-87ab6d3c8101"
      },
      "execution_count": 14,
      "outputs": [
        {
          "output_type": "stream",
          "name": "stdout",
          "text": [
            "Summary statistics:\n",
            "            Duration  Start station number  End station number\n",
            "count  1.063446e+07          1.063446e+07        1.063446e+07\n",
            "mean   1.148938e+03          3.131844e+04        3.131927e+04\n",
            "std    2.255886e+03          2.183809e+02        2.157233e+02\n",
            "min    6.000000e+01          3.100000e+04        3.100000e+04\n",
            "25%    4.060000e+02          3.120400e+04        3.120900e+04\n",
            "50%    7.010000e+02          3.125400e+04        3.125200e+04\n",
            "75%    1.205000e+03          3.150200e+04        3.150000e+04\n",
            "max    8.639400e+04          3.240700e+04        3.240700e+04\n"
          ]
        }
      ]
    },
    {
      "cell_type": "code",
      "source": [
        "print(\"Summary statistics (including non-numeric):\\n\", combined_df.describe(include='all'))\n"
      ],
      "metadata": {
        "colab": {
          "base_uri": "https://localhost:8080/"
        },
        "id": "yfs8krol2UpO",
        "outputId": "b5e62a20-c9f7-45ef-9602-106e89262a52"
      },
      "execution_count": 15,
      "outputs": [
        {
          "output_type": "stream",
          "name": "stdout",
          "text": [
            "Summary statistics (including non-numeric):\n",
            "             Duration           Start date             End date  \\\n",
            "count   1.063446e+07             10634455             10634455   \n",
            "unique           NaN              9514281              9503708   \n",
            "top              NaN  2018-12-03 08:36:55  2017-05-03 18:36:58   \n",
            "freq             NaN                   10                    7   \n",
            "mean    1.148938e+03                  NaN                  NaN   \n",
            "std     2.255886e+03                  NaN                  NaN   \n",
            "min     6.000000e+01                  NaN                  NaN   \n",
            "25%     4.060000e+02                  NaN                  NaN   \n",
            "50%     7.010000e+02                  NaN                  NaN   \n",
            "75%     1.205000e+03                  NaN                  NaN   \n",
            "max     8.639400e+04                  NaN                  NaN   \n",
            "\n",
            "        Start station number                    Start station  \\\n",
            "count           1.063446e+07                         10634455   \n",
            "unique                   NaN                              544   \n",
            "top                      NaN  Columbus Circle / Union Station   \n",
            "freq                     NaN                           201905   \n",
            "mean            3.131844e+04                              NaN   \n",
            "std             2.183809e+02                              NaN   \n",
            "min             3.100000e+04                              NaN   \n",
            "25%             3.120400e+04                              NaN   \n",
            "50%             3.125400e+04                              NaN   \n",
            "75%             3.150200e+04                              NaN   \n",
            "max             3.240700e+04                              NaN   \n",
            "\n",
            "        End station number                      End station Bike number  \\\n",
            "count         1.063446e+07                         10634455    10634455   \n",
            "unique                 NaN                              544        5586   \n",
            "top                    NaN  Columbus Circle / Union Station      W22424   \n",
            "freq                   NaN                           213518        3984   \n",
            "mean          3.131927e+04                              NaN         NaN   \n",
            "std           2.157233e+02                              NaN         NaN   \n",
            "min           3.100000e+04                              NaN         NaN   \n",
            "25%           3.120900e+04                              NaN         NaN   \n",
            "50%           3.125200e+04                              NaN         NaN   \n",
            "75%           3.150000e+04                              NaN         NaN   \n",
            "max           3.240700e+04                              NaN         NaN   \n",
            "\n",
            "       Member type  \n",
            "count     10634455  \n",
            "unique           2  \n",
            "top         Member  \n",
            "freq       8170223  \n",
            "mean           NaN  \n",
            "std            NaN  \n",
            "min            NaN  \n",
            "25%            NaN  \n",
            "50%            NaN  \n",
            "75%            NaN  \n",
            "max            NaN  \n"
          ]
        }
      ]
    },
    {
      "cell_type": "code",
      "source": [
        "# get frequency of a value for Start station - because I thought it would be interesting to have an early peak\n",
        "combined_df['Start station'].value_counts()\n",
        "\n"
      ],
      "metadata": {
        "colab": {
          "base_uri": "https://localhost:8080/",
          "height": 0
        },
        "id": "IJj8LwAK2bI7",
        "outputId": "5b6a0221-ad34-4b60-d39a-aa3caa603cb8"
      },
      "execution_count": 16,
      "outputs": [
        {
          "output_type": "execute_result",
          "data": {
            "text/plain": [
              "Start station\n",
              "Columbus Circle / Union Station              201905\n",
              "Lincoln Memorial                             179952\n",
              "Jefferson Dr & 14th St SW                    159034\n",
              "Massachusetts Ave & Dupont Circle NW         138180\n",
              "15th & P St NW                               124225\n",
              "                                              ...  \n",
              "Joliet St & MLK Ave SW/Bald Eagle Rec Ctr        26\n",
              "Oxon Hill Park & Ride                            24\n",
              "34th St & Minnesota Ave SE                       20\n",
              "Eads St & 12th St S                              18\n",
              "Campus Commons                                   12\n",
              "Name: count, Length: 544, dtype: int64"
            ],
            "text/html": [
              "<div>\n",
              "<style scoped>\n",
              "    .dataframe tbody tr th:only-of-type {\n",
              "        vertical-align: middle;\n",
              "    }\n",
              "\n",
              "    .dataframe tbody tr th {\n",
              "        vertical-align: top;\n",
              "    }\n",
              "\n",
              "    .dataframe thead th {\n",
              "        text-align: right;\n",
              "    }\n",
              "</style>\n",
              "<table border=\"1\" class=\"dataframe\">\n",
              "  <thead>\n",
              "    <tr style=\"text-align: right;\">\n",
              "      <th></th>\n",
              "      <th>count</th>\n",
              "    </tr>\n",
              "    <tr>\n",
              "      <th>Start station</th>\n",
              "      <th></th>\n",
              "    </tr>\n",
              "  </thead>\n",
              "  <tbody>\n",
              "    <tr>\n",
              "      <th>Columbus Circle / Union Station</th>\n",
              "      <td>201905</td>\n",
              "    </tr>\n",
              "    <tr>\n",
              "      <th>Lincoln Memorial</th>\n",
              "      <td>179952</td>\n",
              "    </tr>\n",
              "    <tr>\n",
              "      <th>Jefferson Dr &amp; 14th St SW</th>\n",
              "      <td>159034</td>\n",
              "    </tr>\n",
              "    <tr>\n",
              "      <th>Massachusetts Ave &amp; Dupont Circle NW</th>\n",
              "      <td>138180</td>\n",
              "    </tr>\n",
              "    <tr>\n",
              "      <th>15th &amp; P St NW</th>\n",
              "      <td>124225</td>\n",
              "    </tr>\n",
              "    <tr>\n",
              "      <th>...</th>\n",
              "      <td>...</td>\n",
              "    </tr>\n",
              "    <tr>\n",
              "      <th>Joliet St &amp; MLK Ave SW/Bald Eagle Rec Ctr</th>\n",
              "      <td>26</td>\n",
              "    </tr>\n",
              "    <tr>\n",
              "      <th>Oxon Hill Park &amp; Ride</th>\n",
              "      <td>24</td>\n",
              "    </tr>\n",
              "    <tr>\n",
              "      <th>34th St &amp; Minnesota Ave SE</th>\n",
              "      <td>20</td>\n",
              "    </tr>\n",
              "    <tr>\n",
              "      <th>Eads St &amp; 12th St S</th>\n",
              "      <td>18</td>\n",
              "    </tr>\n",
              "    <tr>\n",
              "      <th>Campus Commons</th>\n",
              "      <td>12</td>\n",
              "    </tr>\n",
              "  </tbody>\n",
              "</table>\n",
              "<p>544 rows × 1 columns</p>\n",
              "</div><br><label><b>dtype:</b> int64</label>"
            ]
          },
          "metadata": {},
          "execution_count": 16
        }
      ]
    },
    {
      "cell_type": "code",
      "source": [
        "# check number of unique values in each column\n",
        "print(\"Number of unique values in each column:\\n\", combined_df.nunique())\n"
      ],
      "metadata": {
        "colab": {
          "base_uri": "https://localhost:8080/"
        },
        "id": "Ekq5Z2iC29Ph",
        "outputId": "9b9786b0-a347-490f-ac44-19774f6d371a"
      },
      "execution_count": 17,
      "outputs": [
        {
          "output_type": "stream",
          "name": "stdout",
          "text": [
            "Number of unique values in each column:\n",
            " Duration                  32385\n",
            "Start date              9514281\n",
            "End date                9503708\n",
            "Start station number        530\n",
            "Start station               544\n",
            "End station number          530\n",
            "End station                 544\n",
            "Bike number                5586\n",
            "Member type                   2\n",
            "dtype: int64\n"
          ]
        }
      ]
    },
    {
      "cell_type": "code",
      "source": [
        "# preview\n",
        "combined_df.info()"
      ],
      "metadata": {
        "colab": {
          "base_uri": "https://localhost:8080/"
        },
        "id": "mq2tuekUZSXn",
        "outputId": "6867aba6-b825-4d6a-b898-49813f6f692d"
      },
      "execution_count": 18,
      "outputs": [
        {
          "output_type": "stream",
          "name": "stdout",
          "text": [
            "<class 'pandas.core.frame.DataFrame'>\n",
            "RangeIndex: 10634455 entries, 0 to 10634454\n",
            "Data columns (total 9 columns):\n",
            " #   Column                Dtype \n",
            "---  ------                ----- \n",
            " 0   Duration              int64 \n",
            " 1   Start date            object\n",
            " 2   End date              object\n",
            " 3   Start station number  int64 \n",
            " 4   Start station         object\n",
            " 5   End station number    int64 \n",
            " 6   End station           object\n",
            " 7   Bike number           object\n",
            " 8   Member type           object\n",
            "dtypes: int64(3), object(6)\n",
            "memory usage: 730.2+ MB\n"
          ]
        }
      ]
    },
    {
      "cell_type": "markdown",
      "source": [
        "\n",
        "\n",
        "---\n",
        "\n",
        "\n",
        "# Data cleaning\n"
      ],
      "metadata": {
        "id": "4MPvv6Cw3ZK-"
      }
    },
    {
      "cell_type": "code",
      "source": [
        "# check for missing values\n",
        "combined_df.isnull().sum()\n"
      ],
      "metadata": {
        "colab": {
          "base_uri": "https://localhost:8080/",
          "height": 0
        },
        "id": "JUkjwLsv2ZzK",
        "outputId": "7a782668-c269-4d6f-e96a-31e52fead391"
      },
      "execution_count": 19,
      "outputs": [
        {
          "output_type": "execute_result",
          "data": {
            "text/plain": [
              "Duration                0\n",
              "Start date              0\n",
              "End date                0\n",
              "Start station number    0\n",
              "Start station           0\n",
              "End station number      0\n",
              "End station             0\n",
              "Bike number             0\n",
              "Member type             0\n",
              "dtype: int64"
            ],
            "text/html": [
              "<div>\n",
              "<style scoped>\n",
              "    .dataframe tbody tr th:only-of-type {\n",
              "        vertical-align: middle;\n",
              "    }\n",
              "\n",
              "    .dataframe tbody tr th {\n",
              "        vertical-align: top;\n",
              "    }\n",
              "\n",
              "    .dataframe thead th {\n",
              "        text-align: right;\n",
              "    }\n",
              "</style>\n",
              "<table border=\"1\" class=\"dataframe\">\n",
              "  <thead>\n",
              "    <tr style=\"text-align: right;\">\n",
              "      <th></th>\n",
              "      <th>0</th>\n",
              "    </tr>\n",
              "  </thead>\n",
              "  <tbody>\n",
              "    <tr>\n",
              "      <th>Duration</th>\n",
              "      <td>0</td>\n",
              "    </tr>\n",
              "    <tr>\n",
              "      <th>Start date</th>\n",
              "      <td>0</td>\n",
              "    </tr>\n",
              "    <tr>\n",
              "      <th>End date</th>\n",
              "      <td>0</td>\n",
              "    </tr>\n",
              "    <tr>\n",
              "      <th>Start station number</th>\n",
              "      <td>0</td>\n",
              "    </tr>\n",
              "    <tr>\n",
              "      <th>Start station</th>\n",
              "      <td>0</td>\n",
              "    </tr>\n",
              "    <tr>\n",
              "      <th>End station number</th>\n",
              "      <td>0</td>\n",
              "    </tr>\n",
              "    <tr>\n",
              "      <th>End station</th>\n",
              "      <td>0</td>\n",
              "    </tr>\n",
              "    <tr>\n",
              "      <th>Bike number</th>\n",
              "      <td>0</td>\n",
              "    </tr>\n",
              "    <tr>\n",
              "      <th>Member type</th>\n",
              "      <td>0</td>\n",
              "    </tr>\n",
              "  </tbody>\n",
              "</table>\n",
              "</div><br><label><b>dtype:</b> int64</label>"
            ]
          },
          "metadata": {},
          "execution_count": 19
        }
      ]
    },
    {
      "cell_type": "code",
      "source": [
        "# check for duplicates\n",
        "combined_df.duplicated().sum()"
      ],
      "metadata": {
        "colab": {
          "base_uri": "https://localhost:8080/"
        },
        "id": "_9OHGDPlZHFs",
        "outputId": "361af4f6-615b-4aef-bb8a-13a70e5ac0da"
      },
      "execution_count": 20,
      "outputs": [
        {
          "output_type": "execute_result",
          "data": {
            "text/plain": [
              "18441"
            ]
          },
          "metadata": {},
          "execution_count": 20
        }
      ]
    },
    {
      "cell_type": "code",
      "source": [
        "# remove duplicate rows\n",
        "combined_df = combined_df.drop_duplicates()\n",
        "combined_df.shape\n"
      ],
      "metadata": {
        "colab": {
          "base_uri": "https://localhost:8080/"
        },
        "id": "I9kdJfnWZnj7",
        "outputId": "0340487b-450b-4d4c-c435-6fbd49908b72"
      },
      "execution_count": 21,
      "outputs": [
        {
          "output_type": "execute_result",
          "data": {
            "text/plain": [
              "(10616014, 9)"
            ]
          },
          "metadata": {},
          "execution_count": 21
        }
      ]
    },
    {
      "cell_type": "code",
      "source": [
        "# Reset the index after removing duplicates\n",
        "combined_df.reset_index(drop=True, inplace=True)\n",
        "print(\"Index has been reset.\")"
      ],
      "metadata": {
        "colab": {
          "base_uri": "https://localhost:8080/"
        },
        "id": "WgV0_J5laInJ",
        "outputId": "0f0f58db-601b-422e-8b1d-83f460b18c5d"
      },
      "execution_count": 22,
      "outputs": [
        {
          "output_type": "stream",
          "name": "stdout",
          "text": [
            "Index has been reset.\n"
          ]
        }
      ]
    },
    {
      "cell_type": "code",
      "source": [
        "# remove outliers\n",
        "# Select only numeric columns for outlier removal\n",
        "numeric_cols = combined_df.select_dtypes(include=['number'])\n",
        "\n",
        "# Calculate Q1 (25th percentile) and Q3 (75th percentile) for numeric columns\n",
        "Q1 = numeric_cols.quantile(0.25)\n",
        "Q3 = numeric_cols.quantile(0.75)\n",
        "IQR = Q3 - Q1  # Interquartile Range\n",
        "\n",
        "# Define the range for acceptable values\n",
        "lower_bound = Q1 - 1.5 * IQR\n",
        "upper_bound = Q3 + 1.5 * IQR\n",
        "\n",
        "# Filter out rows that have outliers in numeric columns\n",
        "filtered_df = combined_df[~((numeric_cols < lower_bound) | (numeric_cols > upper_bound)).any(axis=1)]\n",
        "\n",
        "# Check shape after removing outliers\n",
        "print(f\"Shape before removing outliers: {combined_df.shape}\")\n",
        "print(f\"Shape after removing outliers: {filtered_df.shape}\")\n",
        "\n"
      ],
      "metadata": {
        "colab": {
          "base_uri": "https://localhost:8080/"
        },
        "id": "L3_nKKF8auJr",
        "outputId": "cce425cd-e3ac-4b71-b8ea-81001b118166"
      },
      "execution_count": 23,
      "outputs": [
        {
          "output_type": "stream",
          "name": "stdout",
          "text": [
            "Shape before removing outliers: (10616014, 9)\n",
            "Shape after removing outliers: (9587966, 9)\n"
          ]
        }
      ]
    },
    {
      "cell_type": "code",
      "source": [
        "print(filtered_df.describe())\n"
      ],
      "metadata": {
        "colab": {
          "base_uri": "https://localhost:8080/"
        },
        "id": "0ZdEkWxXbQjg",
        "outputId": "4b07af76-fa4b-4227-8f43-9600985c0930"
      },
      "execution_count": 24,
      "outputs": [
        {
          "output_type": "stream",
          "name": "stdout",
          "text": [
            "           Duration  Start station number  End station number\n",
            "count  9.587966e+06          9.587966e+06        9.587966e+06\n",
            "mean   7.714351e+02          3.130589e+04        3.130782e+04\n",
            "std    4.866921e+02          1.966068e+02        1.953617e+02\n",
            "min    6.000000e+01          3.100000e+04        3.100000e+04\n",
            "25%    3.900000e+02          3.120200e+04        3.120500e+04\n",
            "50%    6.510000e+02          3.125100e+04        3.125000e+04\n",
            "75%    1.054000e+03          3.140700e+04        3.140600e+04\n",
            "max    2.404000e+03          3.192500e+04        3.192500e+04\n"
          ]
        }
      ]
    },
    {
      "cell_type": "code",
      "source": [
        "filtered_df.to_csv('cleaned_dataset.csv', index=False)\n"
      ],
      "metadata": {
        "id": "LOTXCQk6bQ26"
      },
      "execution_count": 25,
      "outputs": []
    },
    {
      "cell_type": "markdown",
      "source": [
        "# Data Preparation and Exploration"
      ],
      "metadata": {
        "id": "Kqd3ayzigwNQ"
      }
    },
    {
      "cell_type": "code",
      "source": [
        "# Inspect the dataset\n",
        "print(filtered_df.info())\n",
        "print(filtered_df.head())\n",
        "\n",
        "# Check for missing values\n",
        "print(filtered_df.isnull().sum())\n"
      ],
      "metadata": {
        "colab": {
          "base_uri": "https://localhost:8080/"
        },
        "id": "9ggRQ8rqhVhG",
        "outputId": "1cfd2696-d96e-4693-918e-fa9b8892e30b"
      },
      "execution_count": 26,
      "outputs": [
        {
          "output_type": "stream",
          "name": "stdout",
          "text": [
            "<class 'pandas.core.frame.DataFrame'>\n",
            "Index: 9587966 entries, 0 to 10616013\n",
            "Data columns (total 9 columns):\n",
            " #   Column                Dtype \n",
            "---  ------                ----- \n",
            " 0   Duration              int64 \n",
            " 1   Start date            object\n",
            " 2   End date              object\n",
            " 3   Start station number  int64 \n",
            " 4   Start station         object\n",
            " 5   End station number    int64 \n",
            " 6   End station           object\n",
            " 7   Bike number           object\n",
            " 8   Member type           object\n",
            "dtypes: int64(3), object(6)\n",
            "memory usage: 731.5+ MB\n",
            "None\n",
            "   Duration           Start date             End date  Start station number  \\\n",
            "0       166  2016-01-01 00:06:58  2016-01-01 00:09:44                 31102   \n",
            "2       715  2016-01-01 00:13:52  2016-01-01 00:25:48                 31222   \n",
            "3       213  2016-01-01 00:15:29  2016-01-01 00:19:03                 31506   \n",
            "4       872  2016-01-01 00:16:16  2016-01-01 00:30:49                 31041   \n",
            "5       859  2016-01-01 00:16:18  2016-01-01 00:30:37                 31041   \n",
            "\n",
            "               Start station  End station number               End station  \\\n",
            "0        11th & Kenyon St NW               31105      14th & Harvard St NW   \n",
            "2  New York Ave & 15th St NW               31214     17th & Corcoran St NW   \n",
            "3  1st & Rhode Island Ave NW               31509  New Jersey Ave & R St NW   \n",
            "4       Prince St & Union St               31048       King St Metro South   \n",
            "5       Prince St & Union St               31048       King St Metro South   \n",
            "\n",
            "  Bike number Member type  \n",
            "0      W01346      Member  \n",
            "2      W21427      Member  \n",
            "3      W01294      Member  \n",
            "4      W22058      Member  \n",
            "5      W01122      Casual  \n",
            "Duration                0\n",
            "Start date              0\n",
            "End date                0\n",
            "Start station number    0\n",
            "Start station           0\n",
            "End station number      0\n",
            "End station             0\n",
            "Bike number             0\n",
            "Member type             0\n",
            "dtype: int64\n"
          ]
        }
      ]
    },
    {
      "cell_type": "markdown",
      "source": [
        "# Feature Engineering"
      ],
      "metadata": {
        "id": "j1seaol5iE_T"
      }
    },
    {
      "cell_type": "code",
      "source": [
        "# Convert \"Start date\" to datetime and filter relevant years\n",
        "filtered_df['Start date'] = pd.to_datetime(filtered_df['Start date'])\n",
        "filtered_df = filtered_df[(filtered_df['Start date'].dt.year >= 2016) & (filtered_df['Start date'].dt.year <= 2018)]\n",
        "\n",
        "print(f\"Filtered dataset shape: {filtered_df.shape}\")\n"
      ],
      "metadata": {
        "colab": {
          "base_uri": "https://localhost:8080/"
        },
        "id": "AIo6yZ3ShtrZ",
        "outputId": "faa06677-80ae-41b6-cf38-fa2b8d295ce8"
      },
      "execution_count": 27,
      "outputs": [
        {
          "output_type": "stream",
          "name": "stderr",
          "text": [
            "<ipython-input-27-2471d81305ed>:2: SettingWithCopyWarning: \n",
            "A value is trying to be set on a copy of a slice from a DataFrame.\n",
            "Try using .loc[row_indexer,col_indexer] = value instead\n",
            "\n",
            "See the caveats in the documentation: https://pandas.pydata.org/pandas-docs/stable/user_guide/indexing.html#returning-a-view-versus-a-copy\n",
            "  filtered_df['Start date'] = pd.to_datetime(filtered_df['Start date'])\n"
          ]
        },
        {
          "output_type": "stream",
          "name": "stdout",
          "text": [
            "Filtered dataset shape: (9587966, 9)\n"
          ]
        }
      ]
    },
    {
      "cell_type": "code",
      "source": [
        "# Extract features from \"Start date\"\n",
        "filtered_df['Year'] = filtered_df['Start date'].dt.year\n",
        "filtered_df['Month'] = filtered_df['Start date'].dt.month\n",
        "filtered_df['Day'] = filtered_df['Start date'].dt.day\n",
        "filtered_df['Hour'] = filtered_df['Start date'].dt.hour\n",
        "filtered_df['Weekday'] = filtered_df['Start date'].dt.weekday\n",
        "\n",
        "print(filtered_df.head())\n"
      ],
      "metadata": {
        "colab": {
          "base_uri": "https://localhost:8080/"
        },
        "id": "MI1XVjyvhwwK",
        "outputId": "370faca1-dc11-4143-8223-82d7eb6a34aa"
      },
      "execution_count": 28,
      "outputs": [
        {
          "output_type": "stream",
          "name": "stdout",
          "text": [
            "   Duration          Start date             End date  Start station number  \\\n",
            "0       166 2016-01-01 00:06:58  2016-01-01 00:09:44                 31102   \n",
            "2       715 2016-01-01 00:13:52  2016-01-01 00:25:48                 31222   \n",
            "3       213 2016-01-01 00:15:29  2016-01-01 00:19:03                 31506   \n",
            "4       872 2016-01-01 00:16:16  2016-01-01 00:30:49                 31041   \n",
            "5       859 2016-01-01 00:16:18  2016-01-01 00:30:37                 31041   \n",
            "\n",
            "               Start station  End station number               End station  \\\n",
            "0        11th & Kenyon St NW               31105      14th & Harvard St NW   \n",
            "2  New York Ave & 15th St NW               31214     17th & Corcoran St NW   \n",
            "3  1st & Rhode Island Ave NW               31509  New Jersey Ave & R St NW   \n",
            "4       Prince St & Union St               31048       King St Metro South   \n",
            "5       Prince St & Union St               31048       King St Metro South   \n",
            "\n",
            "  Bike number Member type  Year  Month  Day  Hour  Weekday  \n",
            "0      W01346      Member  2016      1    1     0        4  \n",
            "2      W21427      Member  2016      1    1     0        4  \n",
            "3      W01294      Member  2016      1    1     0        4  \n",
            "4      W22058      Member  2016      1    1     0        4  \n",
            "5      W01122      Casual  2016      1    1     0        4  \n"
          ]
        }
      ]
    },
    {
      "cell_type": "code",
      "source": [
        "# Calculate ride duration in minutes\n",
        "filtered_df['Duration (min)'] = filtered_df['Duration'] / 60\n"
      ],
      "metadata": {
        "id": "33YQw6Vuh3lf"
      },
      "execution_count": 29,
      "outputs": []
    },
    {
      "cell_type": "markdown",
      "source": [
        "# Modeling 1 - Reducing Bike Availability Wait Time\n",
        "\n",
        "\n",
        "1. Predict peak demand hours\n",
        "\n",
        "\n",
        "\n",
        "\n",
        "\n",
        "\n",
        "\n",
        "\n",
        "\n",
        "\n"
      ],
      "metadata": {
        "id": "ZGxFRAX_iLv0"
      }
    },
    {
      "cell_type": "code",
      "source": [
        "# Aggregate hourly bike usage\n",
        "filtered_df['Hour'] = pd.to_datetime(filtered_df['Start date']).dt.hour\n",
        "filtered_df['Weekday'] = pd.to_datetime(filtered_df['Start date']).dt.weekday\n",
        "\n",
        "hourly_usage = filtered_df.groupby(['Hour', 'Weekday']).size().reset_index(name='Bike Usage')\n",
        "\n",
        "# Add any additional features if necessary\n",
        "hourly_usage['Weekend'] = hourly_usage['Weekday'].apply(lambda x: 1 if x >= 5 else 0)\n"
      ],
      "metadata": {
        "id": "6dL74NwRWGV4"
      },
      "execution_count": 30,
      "outputs": []
    },
    {
      "cell_type": "code",
      "source": [
        "# Define features (X) and target (y)\n",
        "X = hourly_usage[['Hour', 'Weekday', 'Weekend']]\n",
        "y = hourly_usage['Bike Usage']\n",
        "\n",
        "# Split into train and test sets\n",
        "X_train, X_test, y_train, y_test = train_test_split(X, y, test_size=0.2, random_state=42)\n"
      ],
      "metadata": {
        "id": "9YKLmeJCZ3XI"
      },
      "execution_count": 31,
      "outputs": []
    },
    {
      "cell_type": "code",
      "source": [
        "from sklearn.ensemble import RandomForestRegressor\n",
        "\n",
        "# Initialize and fit the model\n",
        "rf_model = RandomForestRegressor(n_estimators=100, random_state=42)\n",
        "rf_model.fit(X_train, y_train)\n"
      ],
      "metadata": {
        "colab": {
          "base_uri": "https://localhost:8080/",
          "height": 80
        },
        "id": "K3rvPYXCZ58q",
        "outputId": "6053ff90-f5c9-45f3-c574-f212abde8541"
      },
      "execution_count": 32,
      "outputs": [
        {
          "output_type": "execute_result",
          "data": {
            "text/plain": [
              "RandomForestRegressor(random_state=42)"
            ],
            "text/html": [
              "<style>#sk-container-id-1 {\n",
              "  /* Definition of color scheme common for light and dark mode */\n",
              "  --sklearn-color-text: black;\n",
              "  --sklearn-color-line: gray;\n",
              "  /* Definition of color scheme for unfitted estimators */\n",
              "  --sklearn-color-unfitted-level-0: #fff5e6;\n",
              "  --sklearn-color-unfitted-level-1: #f6e4d2;\n",
              "  --sklearn-color-unfitted-level-2: #ffe0b3;\n",
              "  --sklearn-color-unfitted-level-3: chocolate;\n",
              "  /* Definition of color scheme for fitted estimators */\n",
              "  --sklearn-color-fitted-level-0: #f0f8ff;\n",
              "  --sklearn-color-fitted-level-1: #d4ebff;\n",
              "  --sklearn-color-fitted-level-2: #b3dbfd;\n",
              "  --sklearn-color-fitted-level-3: cornflowerblue;\n",
              "\n",
              "  /* Specific color for light theme */\n",
              "  --sklearn-color-text-on-default-background: var(--sg-text-color, var(--theme-code-foreground, var(--jp-content-font-color1, black)));\n",
              "  --sklearn-color-background: var(--sg-background-color, var(--theme-background, var(--jp-layout-color0, white)));\n",
              "  --sklearn-color-border-box: var(--sg-text-color, var(--theme-code-foreground, var(--jp-content-font-color1, black)));\n",
              "  --sklearn-color-icon: #696969;\n",
              "\n",
              "  @media (prefers-color-scheme: dark) {\n",
              "    /* Redefinition of color scheme for dark theme */\n",
              "    --sklearn-color-text-on-default-background: var(--sg-text-color, var(--theme-code-foreground, var(--jp-content-font-color1, white)));\n",
              "    --sklearn-color-background: var(--sg-background-color, var(--theme-background, var(--jp-layout-color0, #111)));\n",
              "    --sklearn-color-border-box: var(--sg-text-color, var(--theme-code-foreground, var(--jp-content-font-color1, white)));\n",
              "    --sklearn-color-icon: #878787;\n",
              "  }\n",
              "}\n",
              "\n",
              "#sk-container-id-1 {\n",
              "  color: var(--sklearn-color-text);\n",
              "}\n",
              "\n",
              "#sk-container-id-1 pre {\n",
              "  padding: 0;\n",
              "}\n",
              "\n",
              "#sk-container-id-1 input.sk-hidden--visually {\n",
              "  border: 0;\n",
              "  clip: rect(1px 1px 1px 1px);\n",
              "  clip: rect(1px, 1px, 1px, 1px);\n",
              "  height: 1px;\n",
              "  margin: -1px;\n",
              "  overflow: hidden;\n",
              "  padding: 0;\n",
              "  position: absolute;\n",
              "  width: 1px;\n",
              "}\n",
              "\n",
              "#sk-container-id-1 div.sk-dashed-wrapped {\n",
              "  border: 1px dashed var(--sklearn-color-line);\n",
              "  margin: 0 0.4em 0.5em 0.4em;\n",
              "  box-sizing: border-box;\n",
              "  padding-bottom: 0.4em;\n",
              "  background-color: var(--sklearn-color-background);\n",
              "}\n",
              "\n",
              "#sk-container-id-1 div.sk-container {\n",
              "  /* jupyter's `normalize.less` sets `[hidden] { display: none; }`\n",
              "     but bootstrap.min.css set `[hidden] { display: none !important; }`\n",
              "     so we also need the `!important` here to be able to override the\n",
              "     default hidden behavior on the sphinx rendered scikit-learn.org.\n",
              "     See: https://github.com/scikit-learn/scikit-learn/issues/21755 */\n",
              "  display: inline-block !important;\n",
              "  position: relative;\n",
              "}\n",
              "\n",
              "#sk-container-id-1 div.sk-text-repr-fallback {\n",
              "  display: none;\n",
              "}\n",
              "\n",
              "div.sk-parallel-item,\n",
              "div.sk-serial,\n",
              "div.sk-item {\n",
              "  /* draw centered vertical line to link estimators */\n",
              "  background-image: linear-gradient(var(--sklearn-color-text-on-default-background), var(--sklearn-color-text-on-default-background));\n",
              "  background-size: 2px 100%;\n",
              "  background-repeat: no-repeat;\n",
              "  background-position: center center;\n",
              "}\n",
              "\n",
              "/* Parallel-specific style estimator block */\n",
              "\n",
              "#sk-container-id-1 div.sk-parallel-item::after {\n",
              "  content: \"\";\n",
              "  width: 100%;\n",
              "  border-bottom: 2px solid var(--sklearn-color-text-on-default-background);\n",
              "  flex-grow: 1;\n",
              "}\n",
              "\n",
              "#sk-container-id-1 div.sk-parallel {\n",
              "  display: flex;\n",
              "  align-items: stretch;\n",
              "  justify-content: center;\n",
              "  background-color: var(--sklearn-color-background);\n",
              "  position: relative;\n",
              "}\n",
              "\n",
              "#sk-container-id-1 div.sk-parallel-item {\n",
              "  display: flex;\n",
              "  flex-direction: column;\n",
              "}\n",
              "\n",
              "#sk-container-id-1 div.sk-parallel-item:first-child::after {\n",
              "  align-self: flex-end;\n",
              "  width: 50%;\n",
              "}\n",
              "\n",
              "#sk-container-id-1 div.sk-parallel-item:last-child::after {\n",
              "  align-self: flex-start;\n",
              "  width: 50%;\n",
              "}\n",
              "\n",
              "#sk-container-id-1 div.sk-parallel-item:only-child::after {\n",
              "  width: 0;\n",
              "}\n",
              "\n",
              "/* Serial-specific style estimator block */\n",
              "\n",
              "#sk-container-id-1 div.sk-serial {\n",
              "  display: flex;\n",
              "  flex-direction: column;\n",
              "  align-items: center;\n",
              "  background-color: var(--sklearn-color-background);\n",
              "  padding-right: 1em;\n",
              "  padding-left: 1em;\n",
              "}\n",
              "\n",
              "\n",
              "/* Toggleable style: style used for estimator/Pipeline/ColumnTransformer box that is\n",
              "clickable and can be expanded/collapsed.\n",
              "- Pipeline and ColumnTransformer use this feature and define the default style\n",
              "- Estimators will overwrite some part of the style using the `sk-estimator` class\n",
              "*/\n",
              "\n",
              "/* Pipeline and ColumnTransformer style (default) */\n",
              "\n",
              "#sk-container-id-1 div.sk-toggleable {\n",
              "  /* Default theme specific background. It is overwritten whether we have a\n",
              "  specific estimator or a Pipeline/ColumnTransformer */\n",
              "  background-color: var(--sklearn-color-background);\n",
              "}\n",
              "\n",
              "/* Toggleable label */\n",
              "#sk-container-id-1 label.sk-toggleable__label {\n",
              "  cursor: pointer;\n",
              "  display: block;\n",
              "  width: 100%;\n",
              "  margin-bottom: 0;\n",
              "  padding: 0.5em;\n",
              "  box-sizing: border-box;\n",
              "  text-align: center;\n",
              "}\n",
              "\n",
              "#sk-container-id-1 label.sk-toggleable__label-arrow:before {\n",
              "  /* Arrow on the left of the label */\n",
              "  content: \"▸\";\n",
              "  float: left;\n",
              "  margin-right: 0.25em;\n",
              "  color: var(--sklearn-color-icon);\n",
              "}\n",
              "\n",
              "#sk-container-id-1 label.sk-toggleable__label-arrow:hover:before {\n",
              "  color: var(--sklearn-color-text);\n",
              "}\n",
              "\n",
              "/* Toggleable content - dropdown */\n",
              "\n",
              "#sk-container-id-1 div.sk-toggleable__content {\n",
              "  max-height: 0;\n",
              "  max-width: 0;\n",
              "  overflow: hidden;\n",
              "  text-align: left;\n",
              "  /* unfitted */\n",
              "  background-color: var(--sklearn-color-unfitted-level-0);\n",
              "}\n",
              "\n",
              "#sk-container-id-1 div.sk-toggleable__content.fitted {\n",
              "  /* fitted */\n",
              "  background-color: var(--sklearn-color-fitted-level-0);\n",
              "}\n",
              "\n",
              "#sk-container-id-1 div.sk-toggleable__content pre {\n",
              "  margin: 0.2em;\n",
              "  border-radius: 0.25em;\n",
              "  color: var(--sklearn-color-text);\n",
              "  /* unfitted */\n",
              "  background-color: var(--sklearn-color-unfitted-level-0);\n",
              "}\n",
              "\n",
              "#sk-container-id-1 div.sk-toggleable__content.fitted pre {\n",
              "  /* unfitted */\n",
              "  background-color: var(--sklearn-color-fitted-level-0);\n",
              "}\n",
              "\n",
              "#sk-container-id-1 input.sk-toggleable__control:checked~div.sk-toggleable__content {\n",
              "  /* Expand drop-down */\n",
              "  max-height: 200px;\n",
              "  max-width: 100%;\n",
              "  overflow: auto;\n",
              "}\n",
              "\n",
              "#sk-container-id-1 input.sk-toggleable__control:checked~label.sk-toggleable__label-arrow:before {\n",
              "  content: \"▾\";\n",
              "}\n",
              "\n",
              "/* Pipeline/ColumnTransformer-specific style */\n",
              "\n",
              "#sk-container-id-1 div.sk-label input.sk-toggleable__control:checked~label.sk-toggleable__label {\n",
              "  color: var(--sklearn-color-text);\n",
              "  background-color: var(--sklearn-color-unfitted-level-2);\n",
              "}\n",
              "\n",
              "#sk-container-id-1 div.sk-label.fitted input.sk-toggleable__control:checked~label.sk-toggleable__label {\n",
              "  background-color: var(--sklearn-color-fitted-level-2);\n",
              "}\n",
              "\n",
              "/* Estimator-specific style */\n",
              "\n",
              "/* Colorize estimator box */\n",
              "#sk-container-id-1 div.sk-estimator input.sk-toggleable__control:checked~label.sk-toggleable__label {\n",
              "  /* unfitted */\n",
              "  background-color: var(--sklearn-color-unfitted-level-2);\n",
              "}\n",
              "\n",
              "#sk-container-id-1 div.sk-estimator.fitted input.sk-toggleable__control:checked~label.sk-toggleable__label {\n",
              "  /* fitted */\n",
              "  background-color: var(--sklearn-color-fitted-level-2);\n",
              "}\n",
              "\n",
              "#sk-container-id-1 div.sk-label label.sk-toggleable__label,\n",
              "#sk-container-id-1 div.sk-label label {\n",
              "  /* The background is the default theme color */\n",
              "  color: var(--sklearn-color-text-on-default-background);\n",
              "}\n",
              "\n",
              "/* On hover, darken the color of the background */\n",
              "#sk-container-id-1 div.sk-label:hover label.sk-toggleable__label {\n",
              "  color: var(--sklearn-color-text);\n",
              "  background-color: var(--sklearn-color-unfitted-level-2);\n",
              "}\n",
              "\n",
              "/* Label box, darken color on hover, fitted */\n",
              "#sk-container-id-1 div.sk-label.fitted:hover label.sk-toggleable__label.fitted {\n",
              "  color: var(--sklearn-color-text);\n",
              "  background-color: var(--sklearn-color-fitted-level-2);\n",
              "}\n",
              "\n",
              "/* Estimator label */\n",
              "\n",
              "#sk-container-id-1 div.sk-label label {\n",
              "  font-family: monospace;\n",
              "  font-weight: bold;\n",
              "  display: inline-block;\n",
              "  line-height: 1.2em;\n",
              "}\n",
              "\n",
              "#sk-container-id-1 div.sk-label-container {\n",
              "  text-align: center;\n",
              "}\n",
              "\n",
              "/* Estimator-specific */\n",
              "#sk-container-id-1 div.sk-estimator {\n",
              "  font-family: monospace;\n",
              "  border: 1px dotted var(--sklearn-color-border-box);\n",
              "  border-radius: 0.25em;\n",
              "  box-sizing: border-box;\n",
              "  margin-bottom: 0.5em;\n",
              "  /* unfitted */\n",
              "  background-color: var(--sklearn-color-unfitted-level-0);\n",
              "}\n",
              "\n",
              "#sk-container-id-1 div.sk-estimator.fitted {\n",
              "  /* fitted */\n",
              "  background-color: var(--sklearn-color-fitted-level-0);\n",
              "}\n",
              "\n",
              "/* on hover */\n",
              "#sk-container-id-1 div.sk-estimator:hover {\n",
              "  /* unfitted */\n",
              "  background-color: var(--sklearn-color-unfitted-level-2);\n",
              "}\n",
              "\n",
              "#sk-container-id-1 div.sk-estimator.fitted:hover {\n",
              "  /* fitted */\n",
              "  background-color: var(--sklearn-color-fitted-level-2);\n",
              "}\n",
              "\n",
              "/* Specification for estimator info (e.g. \"i\" and \"?\") */\n",
              "\n",
              "/* Common style for \"i\" and \"?\" */\n",
              "\n",
              ".sk-estimator-doc-link,\n",
              "a:link.sk-estimator-doc-link,\n",
              "a:visited.sk-estimator-doc-link {\n",
              "  float: right;\n",
              "  font-size: smaller;\n",
              "  line-height: 1em;\n",
              "  font-family: monospace;\n",
              "  background-color: var(--sklearn-color-background);\n",
              "  border-radius: 1em;\n",
              "  height: 1em;\n",
              "  width: 1em;\n",
              "  text-decoration: none !important;\n",
              "  margin-left: 1ex;\n",
              "  /* unfitted */\n",
              "  border: var(--sklearn-color-unfitted-level-1) 1pt solid;\n",
              "  color: var(--sklearn-color-unfitted-level-1);\n",
              "}\n",
              "\n",
              ".sk-estimator-doc-link.fitted,\n",
              "a:link.sk-estimator-doc-link.fitted,\n",
              "a:visited.sk-estimator-doc-link.fitted {\n",
              "  /* fitted */\n",
              "  border: var(--sklearn-color-fitted-level-1) 1pt solid;\n",
              "  color: var(--sklearn-color-fitted-level-1);\n",
              "}\n",
              "\n",
              "/* On hover */\n",
              "div.sk-estimator:hover .sk-estimator-doc-link:hover,\n",
              ".sk-estimator-doc-link:hover,\n",
              "div.sk-label-container:hover .sk-estimator-doc-link:hover,\n",
              ".sk-estimator-doc-link:hover {\n",
              "  /* unfitted */\n",
              "  background-color: var(--sklearn-color-unfitted-level-3);\n",
              "  color: var(--sklearn-color-background);\n",
              "  text-decoration: none;\n",
              "}\n",
              "\n",
              "div.sk-estimator.fitted:hover .sk-estimator-doc-link.fitted:hover,\n",
              ".sk-estimator-doc-link.fitted:hover,\n",
              "div.sk-label-container:hover .sk-estimator-doc-link.fitted:hover,\n",
              ".sk-estimator-doc-link.fitted:hover {\n",
              "  /* fitted */\n",
              "  background-color: var(--sklearn-color-fitted-level-3);\n",
              "  color: var(--sklearn-color-background);\n",
              "  text-decoration: none;\n",
              "}\n",
              "\n",
              "/* Span, style for the box shown on hovering the info icon */\n",
              ".sk-estimator-doc-link span {\n",
              "  display: none;\n",
              "  z-index: 9999;\n",
              "  position: relative;\n",
              "  font-weight: normal;\n",
              "  right: .2ex;\n",
              "  padding: .5ex;\n",
              "  margin: .5ex;\n",
              "  width: min-content;\n",
              "  min-width: 20ex;\n",
              "  max-width: 50ex;\n",
              "  color: var(--sklearn-color-text);\n",
              "  box-shadow: 2pt 2pt 4pt #999;\n",
              "  /* unfitted */\n",
              "  background: var(--sklearn-color-unfitted-level-0);\n",
              "  border: .5pt solid var(--sklearn-color-unfitted-level-3);\n",
              "}\n",
              "\n",
              ".sk-estimator-doc-link.fitted span {\n",
              "  /* fitted */\n",
              "  background: var(--sklearn-color-fitted-level-0);\n",
              "  border: var(--sklearn-color-fitted-level-3);\n",
              "}\n",
              "\n",
              ".sk-estimator-doc-link:hover span {\n",
              "  display: block;\n",
              "}\n",
              "\n",
              "/* \"?\"-specific style due to the `<a>` HTML tag */\n",
              "\n",
              "#sk-container-id-1 a.estimator_doc_link {\n",
              "  float: right;\n",
              "  font-size: 1rem;\n",
              "  line-height: 1em;\n",
              "  font-family: monospace;\n",
              "  background-color: var(--sklearn-color-background);\n",
              "  border-radius: 1rem;\n",
              "  height: 1rem;\n",
              "  width: 1rem;\n",
              "  text-decoration: none;\n",
              "  /* unfitted */\n",
              "  color: var(--sklearn-color-unfitted-level-1);\n",
              "  border: var(--sklearn-color-unfitted-level-1) 1pt solid;\n",
              "}\n",
              "\n",
              "#sk-container-id-1 a.estimator_doc_link.fitted {\n",
              "  /* fitted */\n",
              "  border: var(--sklearn-color-fitted-level-1) 1pt solid;\n",
              "  color: var(--sklearn-color-fitted-level-1);\n",
              "}\n",
              "\n",
              "/* On hover */\n",
              "#sk-container-id-1 a.estimator_doc_link:hover {\n",
              "  /* unfitted */\n",
              "  background-color: var(--sklearn-color-unfitted-level-3);\n",
              "  color: var(--sklearn-color-background);\n",
              "  text-decoration: none;\n",
              "}\n",
              "\n",
              "#sk-container-id-1 a.estimator_doc_link.fitted:hover {\n",
              "  /* fitted */\n",
              "  background-color: var(--sklearn-color-fitted-level-3);\n",
              "}\n",
              "</style><div id=\"sk-container-id-1\" class=\"sk-top-container\"><div class=\"sk-text-repr-fallback\"><pre>RandomForestRegressor(random_state=42)</pre><b>In a Jupyter environment, please rerun this cell to show the HTML representation or trust the notebook. <br />On GitHub, the HTML representation is unable to render, please try loading this page with nbviewer.org.</b></div><div class=\"sk-container\" hidden><div class=\"sk-item\"><div class=\"sk-estimator fitted sk-toggleable\"><input class=\"sk-toggleable__control sk-hidden--visually\" id=\"sk-estimator-id-1\" type=\"checkbox\" checked><label for=\"sk-estimator-id-1\" class=\"sk-toggleable__label fitted sk-toggleable__label-arrow fitted\">&nbsp;&nbsp;RandomForestRegressor<a class=\"sk-estimator-doc-link fitted\" rel=\"noreferrer\" target=\"_blank\" href=\"https://scikit-learn.org/1.5/modules/generated/sklearn.ensemble.RandomForestRegressor.html\">?<span>Documentation for RandomForestRegressor</span></a><span class=\"sk-estimator-doc-link fitted\">i<span>Fitted</span></span></label><div class=\"sk-toggleable__content fitted\"><pre>RandomForestRegressor(random_state=42)</pre></div> </div></div></div></div>"
            ]
          },
          "metadata": {},
          "execution_count": 32
        }
      ]
    },
    {
      "cell_type": "code",
      "source": [
        "from sklearn.metrics import mean_absolute_error, r2_score\n",
        "# Make predictions\n",
        "y_pred = rf_model.predict(X_test)\n",
        "\n",
        "# Evaluate\n",
        "mae = mean_absolute_error(y_test, y_pred)\n",
        "r2 = r2_score(y_test, y_pred)\n",
        "\n",
        "print(f\"Mean Absolute Error (MAE): {mae}\")\n",
        "print(f\"R² Score: {r2}\")\n"
      ],
      "metadata": {
        "colab": {
          "base_uri": "https://localhost:8080/"
        },
        "id": "5Ou_7lw5Z-7P",
        "outputId": "fd16d379-c36a-4191-cdc8-5cd4d3a6d967"
      },
      "execution_count": 33,
      "outputs": [
        {
          "output_type": "stream",
          "name": "stdout",
          "text": [
            "Mean Absolute Error (MAE): 5001.910000000002\n",
            "R² Score: 0.9741301110815251\n"
          ]
        }
      ]
    },
    {
      "cell_type": "code",
      "source": [
        "from xgboost import XGBRegressor\n",
        "xgb_model = XGBRegressor(n_estimators=100, random_state=42)\n",
        "xgb_model.fit(X_train, y_train)\n",
        "\n",
        "y_pred = xgb_model.predict(X_test)\n",
        "mae = mean_absolute_error(y_test, y_pred)\n",
        "r2 = r2_score(y_test, y_pred)\n",
        "\n",
        "print(f\"XGBoost MAE: {mae}\")\n",
        "print(f\"XGBoost R²: {r2}\")"
      ],
      "metadata": {
        "colab": {
          "base_uri": "https://localhost:8080/"
        },
        "id": "msl4Aw1Gjw4E",
        "outputId": "fbe2d478-cabc-488a-8280-ef9f95b9051f"
      },
      "execution_count": 34,
      "outputs": [
        {
          "output_type": "stream",
          "name": "stdout",
          "text": [
            "XGBoost MAE: 3120.1207024069395\n",
            "XGBoost R²: 0.9912775754928589\n"
          ]
        }
      ]
    },
    {
      "cell_type": "markdown",
      "source": [
        "It looks like XGBoost model is producing the best result out of the all three models."
      ],
      "metadata": {
        "id": "7C4Q0_EmlKjz"
      }
    },
    {
      "cell_type": "markdown",
      "source": [
        "MAE (3120): The average difference between predicted and actual bike usage is about 3120 bikes. Depending on the scale of the data (for example, if bike usage is in the range of thousands per day), this could be acceptable or it might need improvement.\n",
        "\n",
        "R² (0.99): This indicates that 99% of the variance in bike usage is explained by the model, which is an excellent result. A high R² score suggests that the model has captured the key patterns in the data."
      ],
      "metadata": {
        "id": "rqmt0UlBlWun"
      }
    },
    {
      "cell_type": "markdown",
      "source": [
        "Hypertunning for possible overfitting"
      ],
      "metadata": {
        "id": "ih65bLZjloPZ"
      }
    },
    {
      "cell_type": "code",
      "source": [
        "from sklearn.model_selection import cross_val_score\n",
        "\n",
        "# Perform cross-validation\n",
        "cv_scores = cross_val_score(XGBRegressor(n_estimators=100, random_state=42), X_train, y_train, cv=5, scoring='neg_mean_absolute_error')\n",
        "print(f\"Cross-validated MAE: {-cv_scores.mean()}\")  # Negative because cross_val_score returns negative values for loss functions\n"
      ],
      "metadata": {
        "colab": {
          "base_uri": "https://localhost:8080/"
        },
        "id": "5MF1qL2nltpR",
        "outputId": "2c1e2990-50a5-422c-8065-0e1ce7be35de"
      },
      "execution_count": 35,
      "outputs": [
        {
          "output_type": "stream",
          "name": "stdout",
          "text": [
            "Cross-validated MAE: 5141.319363898905\n"
          ]
        }
      ]
    },
    {
      "cell_type": "code",
      "source": [
        "from sklearn.model_selection import GridSearchCV\n",
        "from xgboost import XGBRegressor\n",
        "\n",
        "# Define the model\n",
        "xgb = XGBRegressor(random_state=42)\n",
        "\n",
        "# Define the hyperparameter grid\n",
        "param_grid = {\n",
        "    'n_estimators': [100, 200, 300],\n",
        "    'learning_rate': [0.01, 0.05, 0.1],\n",
        "    'max_depth': [3, 5, 7],\n",
        "    'subsample': [0.8, 0.9, 1.0],\n",
        "    'colsample_bytree': [0.8, 0.9, 1.0]\n",
        "}\n",
        "\n",
        "# Setup the grid search\n",
        "grid_search = GridSearchCV(estimator=xgb, param_grid=param_grid, cv=3, scoring='neg_mean_absolute_error', verbose=1)\n",
        "\n",
        "# Fit the grid search\n",
        "grid_search.fit(X_train, y_train)\n",
        "\n",
        "# Print best parameters and best score\n",
        "print(f\"Best parameters: {grid_search.best_params_}\")\n",
        "print(f\"Best cross-validation score: {-grid_search.best_score_}\")  # Negative because we are minimizing MAE\n"
      ],
      "metadata": {
        "colab": {
          "base_uri": "https://localhost:8080/"
        },
        "id": "Jf-ya5SxlxK-",
        "outputId": "8fa1b454-6391-4b99-8f09-bbc71f91a266"
      },
      "execution_count": 36,
      "outputs": [
        {
          "output_type": "stream",
          "name": "stdout",
          "text": [
            "Fitting 3 folds for each of 243 candidates, totalling 729 fits\n",
            "Best parameters: {'colsample_bytree': 0.8, 'learning_rate': 0.1, 'max_depth': 5, 'n_estimators': 300, 'subsample': 0.8}\n",
            "Best cross-validation score: 8822.769520399306\n"
          ]
        }
      ]
    },
    {
      "cell_type": "code",
      "source": [
        "# Use the best hyperparameters from grid search\n",
        "best_xgb = XGBRegressor(\n",
        "    colsample_bytree=grid_search.best_params_['colsample_bytree'],\n",
        "    learning_rate=grid_search.best_params_['learning_rate'],\n",
        "    max_depth=grid_search.best_params_['max_depth'],\n",
        "    n_estimators=grid_search.best_params_['n_estimators'],\n",
        "    subsample=grid_search.best_params_['subsample'],\n",
        "    random_state=42\n",
        ")\n",
        "\n",
        "# Train the final model on the full training data\n",
        "best_xgb.fit(X_train, y_train)\n",
        "\n",
        "# Make predictions on the test set\n",
        "y_pred = best_xgb.predict(X_test)\n",
        "\n",
        "# Evaluate the model performance on the test set\n",
        "from sklearn.metrics import mean_absolute_error, r2_score\n",
        "\n",
        "mae = mean_absolute_error(y_test, y_pred)\n",
        "r2 = r2_score(y_test, y_pred)\n",
        "\n",
        "print(f\"Mean Absolute Error (MAE): {mae}\")\n",
        "print(f\"R² Score: {r2}\")\n"
      ],
      "metadata": {
        "colab": {
          "base_uri": "https://localhost:8080/"
        },
        "id": "bMF5CqD0noVd",
        "outputId": "e5bcbbde-1374-40c6-b7a4-fc781ced4510"
      },
      "execution_count": 37,
      "outputs": [
        {
          "output_type": "stream",
          "name": "stdout",
          "text": [
            "Mean Absolute Error (MAE): 3636.0720879049863\n",
            "R² Score: 0.9789811968803406\n"
          ]
        }
      ]
    },
    {
      "cell_type": "code",
      "source": [
        "import matplotlib.pyplot as plt\n",
        "from xgboost import plot_importance\n",
        "# Fit the model with the best parameters from grid search\n",
        "best_xgb = grid_search.best_estimator_\n",
        "\n",
        "# Now plot the feature importance\n",
        "plot_importance(best_xgb, importance_type='weight')  # You can also use 'gain' or 'cover'\n",
        "plt.show()\n"
      ],
      "metadata": {
        "colab": {
          "base_uri": "https://localhost:8080/",
          "height": 472
        },
        "id": "5ZfExQiGfiFr",
        "outputId": "6226ed03-119e-4abf-b43a-1ac49161a33b"
      },
      "execution_count": 38,
      "outputs": [
        {
          "output_type": "display_data",
          "data": {
            "text/plain": [
              "<Figure size 640x480 with 1 Axes>"
            ],
            "image/png": "[encoded data removed]"
          },
          "metadata": {}
        }
      ]
    },
    {
      "cell_type": "markdown",
      "source": [
        "High F-score Hour - 2622: This means the model is heavily relying on the time of day to predict bike usage.\n",
        "\n",
        "It could be that bike usage is highly correlated with certain times, like rush hours."
      ],
      "metadata": {
        "id": "4djW4VDJp-Sf"
      }
    },
    {
      "cell_type": "code",
      "source": [
        "# Create a DataFrame with all hours (0-23) and weekdays (0-6, Monday to Sunday)\n",
        "hours = list(range(24))  # 0 to 23 for hours of the day\n",
        "weekdays = list(range(7))  # 0 to 6 for weekdays (0 = Monday, 6 = Sunday)\n",
        "\n",
        "# Generate combinations of hours and weekdays\n",
        "hour_day_combinations = pd.DataFrame([(hour, weekday) for hour in hours for weekday in weekdays], columns=['Hour', 'Weekday'])\n",
        "\n",
        "# Add the 'Weekend' column based on 'Weekday'\n",
        "hour_day_combinations['Weekend'] = hour_day_combinations['Weekday'].apply(lambda x: 1 if x >= 5 else 0)\n",
        "\n",
        "# Now predict bike demand for each combination using the trained model\n",
        "predictions = best_xgb.predict(hour_day_combinations[['Hour', 'Weekday', 'Weekend']])\n",
        "\n",
        "# Add the predictions to the DataFrame\n",
        "hour_day_combinations['Predicted Demand'] = predictions\n",
        "\n",
        "# View the predicted demand for each combination\n",
        "hour_day_combinations.head()\n"
      ],
      "metadata": {
        "colab": {
          "base_uri": "https://localhost:8080/",
          "height": 206
        },
        "id": "o_XySVEhsa6B",
        "outputId": "5ed86d38-efdd-4f4c-e3b5-ddf59b86b840"
      },
      "execution_count": 57,
      "outputs": [
        {
          "output_type": "execute_result",
          "data": {
            "text/plain": [
              "   Hour  Weekday  Weekend  Predicted Demand\n",
              "0     0        0        0       6441.567383\n",
              "1     0        1        0       5837.601074\n",
              "2     0        2        0       7056.913574\n",
              "3     0        3        0       6795.456543\n",
              "4     0        4        0      10425.861328"
            ],
            "text/html": [
              "\n",
              "  <div id=\"df-691be25c-26a4-4245-a2e1-6cfde0455038\" class=\"colab-df-container\">\n",
              "    <div>\n",
              "<style scoped>\n",
              "    .dataframe tbody tr th:only-of-type {\n",
              "        vertical-align: middle;\n",
              "    }\n",
              "\n",
              "    .dataframe tbody tr th {\n",
              "        vertical-align: top;\n",
              "    }\n",
              "\n",
              "    .dataframe thead th {\n",
              "        text-align: right;\n",
              "    }\n",
              "</style>\n",
              "<table border=\"1\" class=\"dataframe\">\n",
              "  <thead>\n",
              "    <tr style=\"text-align: right;\">\n",
              "      <th></th>\n",
              "      <th>Hour</th>\n",
              "      <th>Weekday</th>\n",
              "      <th>Weekend</th>\n",
              "      <th>Predicted Demand</th>\n",
              "    </tr>\n",
              "  </thead>\n",
              "  <tbody>\n",
              "    <tr>\n",
              "      <th>0</th>\n",
              "      <td>0</td>\n",
              "      <td>0</td>\n",
              "      <td>0</td>\n",
              "      <td>6441.567383</td>\n",
              "    </tr>\n",
              "    <tr>\n",
              "      <th>1</th>\n",
              "      <td>0</td>\n",
              "      <td>1</td>\n",
              "      <td>0</td>\n",
              "      <td>5837.601074</td>\n",
              "    </tr>\n",
              "    <tr>\n",
              "      <th>2</th>\n",
              "      <td>0</td>\n",
              "      <td>2</td>\n",
              "      <td>0</td>\n",
              "      <td>7056.913574</td>\n",
              "    </tr>\n",
              "    <tr>\n",
              "      <th>3</th>\n",
              "      <td>0</td>\n",
              "      <td>3</td>\n",
              "      <td>0</td>\n",
              "      <td>6795.456543</td>\n",
              "    </tr>\n",
              "    <tr>\n",
              "      <th>4</th>\n",
              "      <td>0</td>\n",
              "      <td>4</td>\n",
              "      <td>0</td>\n",
              "      <td>10425.861328</td>\n",
              "    </tr>\n",
              "  </tbody>\n",
              "</table>\n",
              "</div>\n",
              "    <div class=\"colab-df-buttons\">\n",
              "\n",
              "  <div class=\"colab-df-container\">\n",
              "    <button class=\"colab-df-convert\" onclick=\"convertToInteractive('df-691be25c-26a4-4245-a2e1-6cfde0455038')\"\n",
              "            title=\"Convert this dataframe to an interactive table.\"\n",
              "            style=\"display:none;\">\n",
              "\n",
              "  <svg xmlns=\"http://www.w3.org/2000/svg\" height=\"24px\" viewBox=\"0 -960 960 960\">\n",
              "    <path d=\"M120-120v-720h720v720H120Zm60-500h600v-160H180v160Zm220 220h160v-160H400v160Zm0 220h160v-160H400v160ZM180-400h160v-160H180v160Zm440 0h160v-160H620v160ZM180-180h160v-160H180v160Zm440 0h160v-160H620v160Z\"/>\n",
              "  </svg>\n",
              "    </button>\n",
              "\n",
              "  <style>\n",
              "    .colab-df-container {\n",
              "      display:flex;\n",
              "      gap: 12px;\n",
              "    }\n",
              "\n",
              "    .colab-df-convert {\n",
              "      background-color: #E8F0FE;\n",
              "      border: none;\n",
              "      border-radius: 50%;\n",
              "      cursor: pointer;\n",
              "      display: none;\n",
              "      fill: #1967D2;\n",
              "      height: 32px;\n",
              "      padding: 0 0 0 0;\n",
              "      width: 32px;\n",
              "    }\n",
              "\n",
              "    .colab-df-convert:hover {\n",
              "      background-color: #E2EBFA;\n",
              "      box-shadow: 0px 1px 2px rgba(60, 64, 67, 0.3), 0px 1px 3px 1px rgba(60, 64, 67, 0.15);\n",
              "      fill: #174EA6;\n",
              "    }\n",
              "\n",
              "    .colab-df-buttons div {\n",
              "      margin-bottom: 4px;\n",
              "    }\n",
              "\n",
              "    [theme=dark] .colab-df-convert {\n",
              "      background-color: #3B4455;\n",
              "      fill: #D2E3FC;\n",
              "    }\n",
              "\n",
              "    [theme=dark] .colab-df-convert:hover {\n",
              "      background-color: #434B5C;\n",
              "      box-shadow: 0px 1px 3px 1px rgba(0, 0, 0, 0.15);\n",
              "      filter: drop-shadow(0px 1px 2px rgba(0, 0, 0, 0.3));\n",
              "      fill: #FFFFFF;\n",
              "    }\n",
              "  </style>\n",
              "\n",
              "    <script>\n",
              "      const buttonEl =\n",
              "        document.querySelector('#df-691be25c-26a4-4245-a2e1-6cfde0455038 button.colab-df-convert');\n",
              "      buttonEl.style.display =\n",
              "        google.colab.kernel.accessAllowed ? 'block' : 'none';\n",
              "\n",
              "      async function convertToInteractive(key) {\n",
              "        const element = document.querySelector('#df-691be25c-26a4-4245-a2e1-6cfde0455038');\n",
              "        const dataTable =\n",
              "          await google.colab.kernel.invokeFunction('convertToInteractive',\n",
              "                                                    [key], {});\n",
              "        if (!dataTable) return;\n",
              "\n",
              "        const docLinkHtml = 'Like what you see? Visit the ' +\n",
              "          '<a target=\"_blank\" href=https://colab.research.google.com/notebooks/data_table.ipynb>data table notebook</a>'\n",
              "          + ' to learn more about interactive tables.';\n",
              "        element.innerHTML = '';\n",
              "        dataTable['output_type'] = 'display_data';\n",
              "        await google.colab.output.renderOutput(dataTable, element);\n",
              "        const docLink = document.createElement('div');\n",
              "        docLink.innerHTML = docLinkHtml;\n",
              "        element.appendChild(docLink);\n",
              "      }\n",
              "    </script>\n",
              "  </div>\n",
              "\n",
              "\n",
              "<div id=\"df-89260f63-3c58-406c-a332-8514a421ca19\">\n",
              "  <button class=\"colab-df-quickchart\" onclick=\"quickchart('df-89260f63-3c58-406c-a332-8514a421ca19')\"\n",
              "            title=\"Suggest charts\"\n",
              "            style=\"display:none;\">\n",
              "\n",
              "<svg xmlns=\"http://www.w3.org/2000/svg\" height=\"24px\"viewBox=\"0 0 24 24\"\n",
              "     width=\"24px\">\n",
              "    <g>\n",
              "        <path d=\"M19 3H5c-1.1 0-2 .9-2 2v14c0 1.1.9 2 2 2h14c1.1 0 2-.9 2-2V5c0-1.1-.9-2-2-2zM9 17H7v-7h2v7zm4 0h-2V7h2v10zm4 0h-2v-4h2v4z\"/>\n",
              "    </g>\n",
              "</svg>\n",
              "  </button>\n",
              "\n",
              "<style>\n",
              "  .colab-df-quickchart {\n",
              "      --bg-color: #E8F0FE;\n",
              "      --fill-color: #1967D2;\n",
              "      --hover-bg-color: #E2EBFA;\n",
              "      --hover-fill-color: #174EA6;\n",
              "      --disabled-fill-color: #AAA;\n",
              "      --disabled-bg-color: #DDD;\n",
              "  }\n",
              "\n",
              "  [theme=dark] .colab-df-quickchart {\n",
              "      --bg-color: #3B4455;\n",
              "      --fill-color: #D2E3FC;\n",
              "      --hover-bg-color: #434B5C;\n",
              "      --hover-fill-color: #FFFFFF;\n",
              "      --disabled-bg-color: #3B4455;\n",
              "      --disabled-fill-color: #666;\n",
              "  }\n",
              "\n",
              "  .colab-df-quickchart {\n",
              "    background-color: var(--bg-color);\n",
              "    border: none;\n",
              "    border-radius: 50%;\n",
              "    cursor: pointer;\n",
              "    display: none;\n",
              "    fill: var(--fill-color);\n",
              "    height: 32px;\n",
              "    padding: 0;\n",
              "    width: 32px;\n",
              "  }\n",
              "\n",
              "  .colab-df-quickchart:hover {\n",
              "    background-color: var(--hover-bg-color);\n",
              "    box-shadow: 0 1px 2px rgba(60, 64, 67, 0.3), 0 1px 3px 1px rgba(60, 64, 67, 0.15);\n",
              "    fill: var(--button-hover-fill-color);\n",
              "  }\n",
              "\n",
              "  .colab-df-quickchart-complete:disabled,\n",
              "  .colab-df-quickchart-complete:disabled:hover {\n",
              "    background-color: var(--disabled-bg-color);\n",
              "    fill: var(--disabled-fill-color);\n",
              "    box-shadow: none;\n",
              "  }\n",
              "\n",
              "  .colab-df-spinner {\n",
              "    border: 2px solid var(--fill-color);\n",
              "    border-color: transparent;\n",
              "    border-bottom-color: var(--fill-color);\n",
              "    animation:\n",
              "      spin 1s steps(1) infinite;\n",
              "  }\n",
              "\n",
              "  @keyframes spin {\n",
              "    0% {\n",
              "      border-color: transparent;\n",
              "      border-bottom-color: var(--fill-color);\n",
              "      border-left-color: var(--fill-color);\n",
              "    }\n",
              "    20% {\n",
              "      border-color: transparent;\n",
              "      border-left-color: var(--fill-color);\n",
              "      border-top-color: var(--fill-color);\n",
              "    }\n",
              "    30% {\n",
              "      border-color: transparent;\n",
              "      border-left-color: var(--fill-color);\n",
              "      border-top-color: var(--fill-color);\n",
              "      border-right-color: var(--fill-color);\n",
              "    }\n",
              "    40% {\n",
              "      border-color: transparent;\n",
              "      border-right-color: var(--fill-color);\n",
              "      border-top-color: var(--fill-color);\n",
              "    }\n",
              "    60% {\n",
              "      border-color: transparent;\n",
              "      border-right-color: var(--fill-color);\n",
              "    }\n",
              "    80% {\n",
              "      border-color: transparent;\n",
              "      border-right-color: var(--fill-color);\n",
              "      border-bottom-color: var(--fill-color);\n",
              "    }\n",
              "    90% {\n",
              "      border-color: transparent;\n",
              "      border-bottom-color: var(--fill-color);\n",
              "    }\n",
              "  }\n",
              "</style>\n",
              "\n",
              "  <script>\n",
              "    async function quickchart(key) {\n",
              "      const quickchartButtonEl =\n",
              "        document.querySelector('#' + key + ' button');\n",
              "      quickchartButtonEl.disabled = true;  // To prevent multiple clicks.\n",
              "      quickchartButtonEl.classList.add('colab-df-spinner');\n",
              "      try {\n",
              "        const charts = await google.colab.kernel.invokeFunction(\n",
              "            'suggestCharts', [key], {});\n",
              "      } catch (error) {\n",
              "        console.error('Error during call to suggestCharts:', error);\n",
              "      }\n",
              "      quickchartButtonEl.classList.remove('colab-df-spinner');\n",
              "      quickchartButtonEl.classList.add('colab-df-quickchart-complete');\n",
              "    }\n",
              "    (() => {\n",
              "      let quickchartButtonEl =\n",
              "        document.querySelector('#df-89260f63-3c58-406c-a332-8514a421ca19 button');\n",
              "      quickchartButtonEl.style.display =\n",
              "        google.colab.kernel.accessAllowed ? 'block' : 'none';\n",
              "    })();\n",
              "  </script>\n",
              "</div>\n",
              "\n",
              "    </div>\n",
              "  </div>\n"
            ],
            "application/vnd.google.colaboratory.intrinsic+json": {
              "type": "dataframe",
              "variable_name": "hour_day_combinations",
              "summary": "{\n  \"name\": \"hour_day_combinations\",\n  \"rows\": 168,\n  \"fields\": [\n    {\n      \"column\": \"Hour\",\n      \"properties\": {\n        \"dtype\": \"number\",\n        \"std\": 6,\n        \"min\": 0,\n        \"max\": 23,\n        \"num_unique_values\": 24,\n        \"samples\": [\n          8,\n          16,\n          0\n        ],\n        \"semantic_type\": \"\",\n        \"description\": \"\"\n      }\n    },\n    {\n      \"column\": \"Weekday\",\n      \"properties\": {\n        \"dtype\": \"number\",\n        \"std\": 2,\n        \"min\": 0,\n        \"max\": 6,\n        \"num_unique_values\": 7,\n        \"samples\": [\n          0,\n          1,\n          5\n        ],\n        \"semantic_type\": \"\",\n        \"description\": \"\"\n      }\n    },\n    {\n      \"column\": \"Weekend\",\n      \"properties\": {\n        \"dtype\": \"number\",\n        \"std\": 0,\n        \"min\": 0,\n        \"max\": 1,\n        \"num_unique_values\": 2,\n        \"samples\": [\n          1,\n          0\n        ],\n        \"semantic_type\": \"\",\n        \"description\": \"\"\n      }\n    },\n    {\n      \"column\": \"Predicted Demand\",\n      \"properties\": {\n        \"dtype\": \"float32\",\n        \"num_unique_values\": 168,\n        \"samples\": [\n          87834.2578125,\n          3875.586669921875\n        ],\n        \"semantic_type\": \"\",\n        \"description\": \"\"\n      }\n    }\n  ]\n}"
            }
          },
          "metadata": {},
          "execution_count": 57
        }
      ]
    },
    {
      "cell_type": "code",
      "source": [
        "# View all the predicted demand combinations\n",
        "print(hour_day_combinations)"
      ],
      "metadata": {
        "colab": {
          "base_uri": "https://localhost:8080/"
        },
        "id": "B274tiNi1S0R",
        "outputId": "f8e211e8-a87e-4d54-e3c7-1b8f2546be77"
      },
      "execution_count": 58,
      "outputs": [
        {
          "output_type": "stream",
          "name": "stdout",
          "text": [
            "     Hour  Weekday  Weekend  Predicted Demand\n",
            "0       0        0        0       6441.567383\n",
            "1       0        1        0       5837.601074\n",
            "2       0        2        0       7056.913574\n",
            "3       0        3        0       6795.456543\n",
            "4       0        4        0      10425.861328\n",
            "..    ...      ...      ...               ...\n",
            "163    23        2        0      17721.035156\n",
            "164    23        3        0      25555.888672\n",
            "165    23        4        0      24939.445312\n",
            "166    23        5        1      25511.335938\n",
            "167    23        6        1      14170.332031\n",
            "\n",
            "[168 rows x 4 columns]\n"
          ]
        }
      ]
    },
    {
      "cell_type": "code",
      "source": [
        "hour_day_combinations.to_csv('hour_day_combinations.csv', index=False)\n"
      ],
      "metadata": {
        "id": "_3O46v0SOP48"
      },
      "execution_count": 60,
      "outputs": []
    },
    {
      "cell_type": "code",
      "source": [
        "# download as csv file\n",
        "from google.colab import files\n",
        "files.download('hour_day_combinations.csv')\n"
      ],
      "metadata": {
        "colab": {
          "base_uri": "https://localhost:8080/",
          "height": 17
        },
        "id": "JJOmVcVFOa7y",
        "outputId": "afa56e71-2d1b-4c22-a2db-93c846f74c6f"
      },
      "execution_count": 62,
      "outputs": [
        {
          "output_type": "display_data",
          "data": {
            "text/plain": [
              "<IPython.core.display.Javascript object>"
            ],
            "application/javascript": [
              "\n",
              "    async function download(id, filename, size) {\n",
              "      if (!google.colab.kernel.accessAllowed) {\n",
              "        return;\n",
              "      }\n",
              "      const div = document.createElement('div');\n",
              "      const label = document.createElement('label');\n",
              "      label.textContent = `Downloading \"${filename}\": `;\n",
              "      div.appendChild(label);\n",
              "      const progress = document.createElement('progress');\n",
              "      progress.max = size;\n",
              "      div.appendChild(progress);\n",
              "      document.body.appendChild(div);\n",
              "\n",
              "      const buffers = [];\n",
              "      let downloaded = 0;\n",
              "\n",
              "      const channel = await google.colab.kernel.comms.open(id);\n",
              "      // Send a message to notify the kernel that we're ready.\n",
              "      channel.send({})\n",
              "\n",
              "      for await (const message of channel.messages) {\n",
              "        // Send a message to notify the kernel that we're ready.\n",
              "        channel.send({})\n",
              "        if (message.buffers) {\n",
              "          for (const buffer of message.buffers) {\n",
              "            buffers.push(buffer);\n",
              "            downloaded += buffer.byteLength;\n",
              "            progress.value = downloaded;\n",
              "          }\n",
              "        }\n",
              "      }\n",
              "      const blob = new Blob(buffers, {type: 'application/binary'});\n",
              "      const a = document.createElement('a');\n",
              "      a.href = window.URL.createObjectURL(blob);\n",
              "      a.download = filename;\n",
              "      div.appendChild(a);\n",
              "      a.click();\n",
              "      div.remove();\n",
              "    }\n",
              "  "
            ]
          },
          "metadata": {}
        },
        {
          "output_type": "display_data",
          "data": {
            "text/plain": [
              "<IPython.core.display.Javascript object>"
            ],
            "application/javascript": [
              "download(\"download_3312e309-ca06-4191-b1ff-52e886649547\", \"hour_day_combinations.csv\", 2769)"
            ]
          },
          "metadata": {}
        }
      ]
    },
    {
      "cell_type": "code",
      "source": [
        "import matplotlib.pyplot as plt\n",
        "\n",
        "# Plot demand by hour for a typical week (consider weekdays and weekends separately)\n",
        "plt.figure(figsize=(10, 5))\n",
        "for weekday in range(7):\n",
        "    # Filter data for a specific weekday\n",
        "    weekday_data = hour_day_combinations[hour_day_combinations['Weekday'] == weekday]\n",
        "    plt.plot(weekday_data['Hour'], weekday_data['Predicted Demand'], label=f'Weekday {weekday}')\n",
        "\n",
        "plt.xlabel('Hour of Day')\n",
        "plt.ylabel('Predicted Bike Demand')\n",
        "plt.title('Predicted Bike Demand by Hour of Day and Weekday')\n",
        "plt.legend()\n",
        "plt.show()\n",
        "\n",
        "# Plot demand for weekend vs weekdays\n",
        "weekday_data = hour_day_combinations[hour_day_combinations['Weekend'] == 0]\n",
        "weekend_data = hour_day_combinations[hour_day_combinations['Weekend'] == 1]\n",
        "\n",
        "plt.figure(figsize=(12, 6))\n",
        "plt.plot(weekday_data['Hour'], weekday_data['Predicted Demand'], label='Weekday')\n",
        "plt.plot(weekend_data['Hour'], weekend_data['Predicted Demand'], label='Weekend', linestyle='--')\n",
        "plt.xlabel('Hour of Day')\n",
        "plt.ylabel('Predicted Bike Demand')\n",
        "plt.title('Predicted Bike Demand: Weekdays vs Weekends')\n",
        "plt.legend()\n",
        "plt.show()\n"
      ],
      "metadata": {
        "colab": {
          "base_uri": "https://localhost:8080/",
          "height": 987
        },
        "id": "NxWew-PMshk-",
        "outputId": "cee9376b-2003-4e51-fd52-5444a331751c"
      },
      "execution_count": 63,
      "outputs": [
        {
          "output_type": "display_data",
          "data": {
            "text/plain": [
              "<Figure size 1000x500 with 1 Axes>"
            ],
            "image/png": "[encoded data removed]"
          },
          "metadata": {}
        },
        {
          "output_type": "display_data",
          "data": {
            "text/plain": [
              "<Figure size 1200x600 with 1 Axes>"
            ],
            "image/png": "[encoded data removed]"
          },
          "metadata": {}
        }
      ]
    },
    {
      "cell_type": "markdown",
      "source": [
        "Result interpretation for reporting purpose:\n",
        "\n",
        "\n",
        "*   Predicted Bike Demand Hour of the day: Weekday Peak hours (7-8, 17-18) Weekend Peak hours (12-15)\n",
        "\n",
        "\n",
        "*   Number of Bikes needed: Weekday Peak hours (above 175000) Weekend Peak hours (around 100000)\n",
        "\n",
        "\n",
        "\n",
        "\n"
      ],
      "metadata": {
        "id": "zMs_helcsz4m"
      }
    },
    {
      "cell_type": "code",
      "source": [],
      "metadata": {
        "id": "qGoy79I8s_0s"
      },
      "execution_count": null,
      "outputs": []
    },
    {
      "cell_type": "code",
      "source": [],
      "metadata": {
        "id": "X8m04PDgfiaq"
      },
      "execution_count": null,
      "outputs": []
    },
    {
      "cell_type": "code",
      "source": [],
      "metadata": {
        "id": "LGIWXUdBpl_v"
      },
      "execution_count": null,
      "outputs": []
    },
    {
      "cell_type": "markdown",
      "source": [
        "# Modeling 1 - Reducing Bike Availability Wait Time\n",
        "\n",
        "\n",
        "2. Predict seasonal demand\n",
        "\n",
        "\n"
      ],
      "metadata": {
        "id": "NjwVdleNJ3tI"
      }
    },
    {
      "cell_type": "code",
      "source": [
        "# Extract month and aggregate monthly bike demand\n",
        "filtered_df['Month'] = pd.to_datetime(filtered_df['Start date']).dt.month\n",
        "monthly_demand = filtered_df.groupby(['Month', 'Start station number']).size().reset_index(name='Bike Demand')\n",
        "\n",
        "# Define features and target\n",
        "X = monthly_demand[['Month', 'Start station number']]\n",
        "y = monthly_demand['Bike Demand']\n",
        "\n",
        "# Split the data into training and testing sets\n",
        "X_train, X_test, y_train, y_test = train_test_split(X, y, test_size=0.2, random_state=42)"
      ],
      "metadata": {
        "id": "_nMl8UmNuZ46"
      },
      "execution_count": 42,
      "outputs": []
    },
    {
      "cell_type": "code",
      "source": [
        "# Random Forest Model\n",
        "rf_model = RandomForestRegressor(n_estimators=100, random_state=42)\n",
        "rf_model.fit(X_train, y_train)\n",
        "y_rf_pred = rf_model.predict(X_test)\n",
        "mae_rf = mean_absolute_error(y_test, y_rf_pred)\n",
        "r2_rf = r2_score(y_test, y_rf_pred)\n",
        "\n",
        "# Linear Regression Model\n",
        "lr_model = LinearRegression()\n",
        "lr_model.fit(X_train, y_train)\n",
        "y_lr_pred = lr_model.predict(X_test)\n",
        "mae_lr = mean_absolute_error(y_test, y_lr_pred)\n",
        "r2_lr = r2_score(y_test, y_lr_pred)\n",
        "\n",
        "# XGBRegressor Model\n",
        "xgb_model = XGBRegressor(n_estimators=100, random_state=42)\n",
        "xgb_model.fit(X_train, y_train)\n",
        "y_xgb_pred = xgb_model.predict(X_test)\n",
        "mae_xgb = mean_absolute_error(y_test, y_xgb_pred)\n",
        "r2_xgb = r2_score(y_test, y_xgb_pred)\n",
        "\n"
      ],
      "metadata": {
        "id": "Y-IzUcQMuZ11"
      },
      "execution_count": 45,
      "outputs": []
    },
    {
      "cell_type": "code",
      "source": [
        "# Display Results\n",
        "print(\"Model Performance:\")\n",
        "print(f\"Random Forest: MAE = {mae_rf:.2f}, R^2 = {r2_rf:.2f}\")\n",
        "print(f\"Linear Regression: MAE = {mae_lr:.2f}, R^2 = {r2_lr:.2f}\")\n",
        "print(f\"XGBRegressor: MAE = {mae_xgb:.2f}, R^2 = {r2_xgb:.2f}\")"
      ],
      "metadata": {
        "id": "rL9g7X0QuZjM",
        "colab": {
          "base_uri": "https://localhost:8080/"
        },
        "outputId": "9000d025-f0ac-4c6c-a856-9996640c0ce8"
      },
      "execution_count": 46,
      "outputs": [
        {
          "output_type": "stream",
          "name": "stdout",
          "text": [
            "Model Performance:\n",
            "Random Forest: MAE = 301.78, R^2 = 0.93\n",
            "Linear Regression: MAE = 1672.20, R^2 = 0.01\n",
            "XGBRegressor: MAE = 554.06, R^2 = 0.78\n"
          ]
        }
      ]
    },
    {
      "cell_type": "markdown",
      "source": [
        "Random Forest:\n",
        "MAE: 301.78 (lowest error among the models).\n",
        "R^2 : 0.93 (explains 93% of the variance in bike demand).\n",
        "This model performs exceptionally well, capturing the relationships in the data effectively.\n",
        "\n",
        "Linear Regression:\n",
        "MAE: 1672.20 (highest error).\n",
        "R^2 : 0.01 (only explains 1% of the variance).\n",
        "This model struggles to capture the complexities of the data, likely due to its assumption of linear relationships, which may not suit this problem.\n",
        "\n",
        "XGBRegressor:\n",
        "MAE: 554.06 (higher error than Random Forest but significantly better than Linear Regression).\n",
        "R^2 : 0.78 (explains 78% of the variance).\n",
        "This model performs well but not as effectively as Random Forest, possibly due to hyperparameters requiring further tuning."
      ],
      "metadata": {
        "id": "aUDgiTFhMHAE"
      }
    },
    {
      "cell_type": "code",
      "source": [
        "# Save Predictions for the Best Model (Assume RF is the best for example)\n",
        "monthly_demand['Predicted Bike Demand'] = rf_model.predict(X)\n",
        "monthly_demand.to_csv('monthly_demand_predictions.csv', index=False)\n",
        "print(\"Monthly demand predictions saved to 'monthly_demand_predictions.csv'\")"
      ],
      "metadata": {
        "id": "5F6tXiuV06UT",
        "colab": {
          "base_uri": "https://localhost:8080/"
        },
        "outputId": "424ca65d-f533-4f7d-be87-220612353534"
      },
      "execution_count": 47,
      "outputs": [
        {
          "output_type": "stream",
          "name": "stdout",
          "text": [
            "Monthly demand predictions saved to 'monthly_demand_predictions.csv'\n"
          ]
        }
      ]
    },
    {
      "cell_type": "code",
      "source": [
        "from google.colab import files\n",
        "files.download('monthly_demand_predictions.csv')"
      ],
      "metadata": {
        "colab": {
          "base_uri": "https://localhost:8080/",
          "height": 17
        },
        "id": "u7Ce3aUPM4yz",
        "outputId": "b5a5888c-4e86-4be5-a2bf-f8c4eacc9172"
      },
      "execution_count": 49,
      "outputs": [
        {
          "output_type": "display_data",
          "data": {
            "text/plain": [
              "<IPython.core.display.Javascript object>"
            ],
            "application/javascript": [
              "\n",
              "    async function download(id, filename, size) {\n",
              "      if (!google.colab.kernel.accessAllowed) {\n",
              "        return;\n",
              "      }\n",
              "      const div = document.createElement('div');\n",
              "      const label = document.createElement('label');\n",
              "      label.textContent = `Downloading \"${filename}\": `;\n",
              "      div.appendChild(label);\n",
              "      const progress = document.createElement('progress');\n",
              "      progress.max = size;\n",
              "      div.appendChild(progress);\n",
              "      document.body.appendChild(div);\n",
              "\n",
              "      const buffers = [];\n",
              "      let downloaded = 0;\n",
              "\n",
              "      const channel = await google.colab.kernel.comms.open(id);\n",
              "      // Send a message to notify the kernel that we're ready.\n",
              "      channel.send({})\n",
              "\n",
              "      for await (const message of channel.messages) {\n",
              "        // Send a message to notify the kernel that we're ready.\n",
              "        channel.send({})\n",
              "        if (message.buffers) {\n",
              "          for (const buffer of message.buffers) {\n",
              "            buffers.push(buffer);\n",
              "            downloaded += buffer.byteLength;\n",
              "            progress.value = downloaded;\n",
              "          }\n",
              "        }\n",
              "      }\n",
              "      const blob = new Blob(buffers, {type: 'application/binary'});\n",
              "      const a = document.createElement('a');\n",
              "      a.href = window.URL.createObjectURL(blob);\n",
              "      a.download = filename;\n",
              "      div.appendChild(a);\n",
              "      a.click();\n",
              "      div.remove();\n",
              "    }\n",
              "  "
            ]
          },
          "metadata": {}
        },
        {
          "output_type": "display_data",
          "data": {
            "text/plain": [
              "<IPython.core.display.Javascript object>"
            ],
            "application/javascript": [
              "download(\"download_8a2480aa-80e3-45a2-af90-722084f1a253\", \"monthly_demand_predictions.csv\", 95397)"
            ]
          },
          "metadata": {}
        }
      ]
    },
    {
      "cell_type": "markdown",
      "source": [
        "# Modeling 2 - Optimizing Bike Distribution\n",
        "\n",
        "\n",
        "\n",
        "\n",
        "1. Predict popular stations during peak hours for weekdays and weekends\n",
        "\n",
        "\n",
        "\n",
        "\n",
        "\n",
        "\n",
        "\n",
        "\n"
      ],
      "metadata": {
        "id": "fCD1Ds7FioMj"
      }
    },
    {
      "cell_type": "code",
      "source": [
        "# Aggregate bike usage by station and time features\n",
        "filtered_df['Hour'] = pd.to_datetime(filtered_df['Start date']).dt.hour\n",
        "filtered_df['Day number'] = pd.to_datetime(filtered_df['Start date']).dt.weekday  # Renamed 'Weekday' to 'Day number'\n",
        "filtered_df['Weekend'] = filtered_df['Day number'].apply(lambda x: 1 if x >= 5 else 0)\n",
        "\n",
        "station_usage = filtered_df.groupby(['Start station number', 'Day number', 'Hour']).size().reset_index(name='Bike Demand')\n",
        "\n",
        "# Filter data for peak hours (Weekday Peak hours: 7-8, 17-18, Weekend Peak hours: 12-15)\n",
        "peak_hour_usage = station_usage[\n",
        "    ((station_usage['Day number'] < 5) & (station_usage['Hour'].isin([7, 8, 17, 18]))) |  # Weekday Peak\n",
        "    ((station_usage['Day number'] >= 5) & (station_usage['Hour'].isin([12, 13, 14, 15])))  # Weekend Peak\n",
        "]\n"
      ],
      "metadata": {
        "id": "XeiaGyfkwSJJ"
      },
      "execution_count": 51,
      "outputs": []
    },
    {
      "cell_type": "code",
      "source": [
        "# Display unique values in the 'Weekday' column\n",
        "print(station_usage['Day number'].unique())\n"
      ],
      "metadata": {
        "colab": {
          "base_uri": "https://localhost:8080/"
        },
        "id": "fEEJquDl00YK",
        "outputId": "f65b2fa4-bab5-4f99-ad11-aaee9ba9644e"
      },
      "execution_count": 52,
      "outputs": [
        {
          "output_type": "stream",
          "name": "stdout",
          "text": [
            "[0 1 2 3 4 5 6]\n"
          ]
        }
      ]
    },
    {
      "cell_type": "code",
      "source": [
        "# Filter data for weekdays (Day number 0-4)\n",
        "weekday_data = peak_hour_usage[peak_hour_usage['Day number'] < 5]\n",
        "\n",
        "# Features and target for weekdays\n",
        "X_weekday = weekday_data[['Hour', 'Day number', 'Start station number']]\n",
        "y_weekday = weekday_data['Bike Demand']\n",
        "\n",
        "# Split the weekday data into train and test sets\n",
        "X_weekday_train, X_weekday_test, y_weekday_train, y_weekday_test = train_test_split(X_weekday, y_weekday, test_size=0.2, random_state=42)\n",
        "\n",
        "# Train a RandomForestRegressor for weekdays\n",
        "rf_model_weekday = RandomForestRegressor(n_estimators=100, random_state=42)\n",
        "rf_model_weekday.fit(X_weekday_train, y_weekday_train)\n",
        "\n",
        "# Predict on test data for weekdays\n",
        "y_weekday_pred = rf_model_weekday.predict(X_weekday_test)\n",
        "\n",
        "# Evaluate the model for weekdays\n",
        "mae_weekday = mean_absolute_error(y_weekday_test, y_weekday_pred)\n",
        "print(f\"MAE for predicting bike demand on weekdays: {mae_weekday}\")\n"
      ],
      "metadata": {
        "colab": {
          "base_uri": "https://localhost:8080/"
        },
        "id": "8SaDFXppwe3-",
        "outputId": "d5a1322d-9d6d-48a3-b0d2-98bbc238e23d"
      },
      "execution_count": 53,
      "outputs": [
        {
          "output_type": "stream",
          "name": "stdout",
          "text": [
            "MAE for predicting bike demand on weekdays: 49.17153749999999\n"
          ]
        }
      ]
    },
    {
      "cell_type": "code",
      "source": [
        "# Predict for all stations during the weekday peak hours\n",
        "weekday_data['Predicted Bike Demand'] = rf_model_weekday.predict(X_weekday)\n",
        "\n",
        "# Find the top stations with the highest predicted bike demand\n",
        "hot_stations = weekday_data.groupby('Start station number')['Predicted Bike Demand'].sum().reset_index()\n",
        "hot_stations = hot_stations.sort_values(by='Predicted Bike Demand', ascending=False)\n",
        "\n",
        "# Now, predict bike demand for the hot stations\n",
        "# Select top 5 hot stations for example (you can adjust this number)\n",
        "top_hot_stations = hot_stations.head(5)\n",
        "\n",
        "# Filter data for the top hot stations\n",
        "hot_station_data = weekday_data[weekday_data['Start station number'].isin(top_hot_stations['Start station number'])]\n",
        "\n",
        "# Predict the bike demand for these hot stations\n",
        "X_hot_stations = hot_station_data[['Hour', 'Day number', 'Start station number']]\n",
        "y_hot_stations_pred = rf_model_weekday.predict(X_hot_stations)\n",
        "\n",
        "# Add predictions to the data\n",
        "hot_station_data['Predicted Bike Demand'] = y_hot_stations_pred\n",
        "\n",
        "# Display the predicted bike demand for the hot stations\n",
        "print(hot_station_data[['Start station number', 'Hour', 'Day number', 'Predicted Bike Demand']])\n",
        "\n"
      ],
      "metadata": {
        "colab": {
          "base_uri": "https://localhost:8080/"
        },
        "id": "dOQ--IBH4lOl",
        "outputId": "fdd28cb6-b5fd-42b1-da5f-5e10b96d6ddb"
      },
      "execution_count": 54,
      "outputs": [
        {
          "output_type": "stream",
          "name": "stdout",
          "text": [
            "       Start station number  Hour  Day number  Predicted Bike Demand\n",
            "20226                 31200     7           0                 666.94\n",
            "20227                 31200     8           0                1608.08\n",
            "20236                 31200    17           0                2401.74\n",
            "20237                 31200    18           0                2618.81\n",
            "20250                 31200     7           1                 693.80\n",
            "...                     ...   ...         ...                    ...\n",
            "50270                 31624    18           3                1550.30\n",
            "50283                 31624     7           4                 959.13\n",
            "50284                 31624     8           4                1877.90\n",
            "50293                 31624    17           4                2272.55\n",
            "50294                 31624    18           4                1540.85\n",
            "\n",
            "[100 rows x 4 columns]\n"
          ]
        },
        {
          "output_type": "stream",
          "name": "stderr",
          "text": [
            "<ipython-input-54-814609088966>:2: SettingWithCopyWarning: \n",
            "A value is trying to be set on a copy of a slice from a DataFrame.\n",
            "Try using .loc[row_indexer,col_indexer] = value instead\n",
            "\n",
            "See the caveats in the documentation: https://pandas.pydata.org/pandas-docs/stable/user_guide/indexing.html#returning-a-view-versus-a-copy\n",
            "  weekday_data['Predicted Bike Demand'] = rf_model_weekday.predict(X_weekday)\n",
            "<ipython-input-54-814609088966>:20: SettingWithCopyWarning: \n",
            "A value is trying to be set on a copy of a slice from a DataFrame.\n",
            "Try using .loc[row_indexer,col_indexer] = value instead\n",
            "\n",
            "See the caveats in the documentation: https://pandas.pydata.org/pandas-docs/stable/user_guide/indexing.html#returning-a-view-versus-a-copy\n",
            "  hot_station_data['Predicted Bike Demand'] = y_hot_stations_pred\n"
          ]
        }
      ]
    },
    {
      "cell_type": "code",
      "source": [
        "# Save the hot station data (including predictions) to a CSV file\n",
        "hot_station_data.to_csv('predicted_bike_demand_hot_stations.csv', index=False)\n",
        "\n",
        "from google.colab import files\n",
        "\n",
        "# Download the CSV file to your local machine\n",
        "files.download('predicted_bike_demand_hot_stations.csv')\n"
      ],
      "metadata": {
        "colab": {
          "base_uri": "https://localhost:8080/",
          "height": 17
        },
        "id": "7P6Scqol6E8X",
        "outputId": "02be86d6-bcf1-40a2-c417-eee0da271634"
      },
      "execution_count": 55,
      "outputs": [
        {
          "output_type": "display_data",
          "data": {
            "text/plain": [
              "<IPython.core.display.Javascript object>"
            ],
            "application/javascript": [
              "\n",
              "    async function download(id, filename, size) {\n",
              "      if (!google.colab.kernel.accessAllowed) {\n",
              "        return;\n",
              "      }\n",
              "      const div = document.createElement('div');\n",
              "      const label = document.createElement('label');\n",
              "      label.textContent = `Downloading \"${filename}\": `;\n",
              "      div.appendChild(label);\n",
              "      const progress = document.createElement('progress');\n",
              "      progress.max = size;\n",
              "      div.appendChild(progress);\n",
              "      document.body.appendChild(div);\n",
              "\n",
              "      const buffers = [];\n",
              "      let downloaded = 0;\n",
              "\n",
              "      const channel = await google.colab.kernel.comms.open(id);\n",
              "      // Send a message to notify the kernel that we're ready.\n",
              "      channel.send({})\n",
              "\n",
              "      for await (const message of channel.messages) {\n",
              "        // Send a message to notify the kernel that we're ready.\n",
              "        channel.send({})\n",
              "        if (message.buffers) {\n",
              "          for (const buffer of message.buffers) {\n",
              "            buffers.push(buffer);\n",
              "            downloaded += buffer.byteLength;\n",
              "            progress.value = downloaded;\n",
              "          }\n",
              "        }\n",
              "      }\n",
              "      const blob = new Blob(buffers, {type: 'application/binary'});\n",
              "      const a = document.createElement('a');\n",
              "      a.href = window.URL.createObjectURL(blob);\n",
              "      a.download = filename;\n",
              "      div.appendChild(a);\n",
              "      a.click();\n",
              "      div.remove();\n",
              "    }\n",
              "  "
            ]
          },
          "metadata": {}
        },
        {
          "output_type": "display_data",
          "data": {
            "text/plain": [
              "<IPython.core.display.Javascript object>"
            ],
            "application/javascript": [
              "download(\"download_b77e8a62-dcd9-4e66-8419-d53ebc784213\", \"predicted_bike_demand_hot_stations.csv\", 2382)"
            ]
          },
          "metadata": {}
        }
      ]
    },
    {
      "cell_type": "markdown",
      "source": [
        "Top 5 most popular station bike demand prediction result has been saved into a csv.\n",
        "\n",
        "The report will use the csv to further assist in distribution of bikes."
      ],
      "metadata": {
        "id": "LaxsLWYz6W8G"
      }
    },
    {
      "cell_type": "code",
      "source": [],
      "metadata": {
        "id": "4P42DCNDwSB1"
      },
      "execution_count": 55,
      "outputs": []
    },
    {
      "cell_type": "code",
      "source": [],
      "metadata": {
        "id": "vtKKwVGTwR_c"
      },
      "execution_count": 55,
      "outputs": []
    },
    {
      "cell_type": "markdown",
      "source": [
        "# Modeling 2 - Optimizing Bike Distribution\n",
        "\n",
        "\n",
        "\n",
        "\n",
        "2. Predict popular stations for seasonal data\n"
      ],
      "metadata": {
        "id": "XX4mkpLhO_YD"
      }
    },
    {
      "cell_type": "code",
      "source": [
        "# Predict bike demand for all monthly data using the Random Forest model\n",
        "monthly_demand['Predicted Bike Demand'] = rf_model.predict(X)\n",
        "\n",
        "# Aggregate predicted demand by station\n",
        "hot_stations_monthly = monthly_demand.groupby('Start station number')['Predicted Bike Demand'].sum().reset_index()\n",
        "\n",
        "# Sort stations by predicted demand in descending order\n",
        "hot_stations_monthly = hot_stations_monthly.sort_values(by='Predicted Bike Demand', ascending=False)\n",
        "\n",
        "# View the top stations\n",
        "print(hot_stations_monthly.head(10))  # Show top 10 hot stations\n",
        "\n",
        "# Save the results to a CSV file\n",
        "hot_stations_monthly.to_csv('hot_stations_monthly.csv', index=False)\n",
        "\n",
        "# Display success message\n",
        "print(\"Hot station predictions saved to 'hot_stations_monthly.csv'.\")\n"
      ],
      "metadata": {
        "colab": {
          "base_uri": "https://localhost:8080/"
        },
        "id": "YTT2qxMiO_NY",
        "outputId": "aa916c53-b512-4075-906c-906c0c02beb4"
      },
      "execution_count": 65,
      "outputs": [
        {
          "output_type": "stream",
          "name": "stdout",
          "text": [
            "     Start station number  Predicted Bike Demand\n",
            "316                 31623              200287.01\n",
            "130                 31200              126884.39\n",
            "187                 31258              120597.62\n",
            "131                 31201              120296.28\n",
            "176                 31247              108210.41\n",
            "178                 31249               94601.47\n",
            "158                 31229               90552.12\n",
            "296                 31603               89935.88\n",
            "101                 31101               88211.87\n",
            "293                 31600               88131.21\n",
            "Hot station predictions saved to 'hot_stations_monthly.csv'.\n"
          ]
        }
      ]
    },
    {
      "cell_type": "code",
      "source": [
        "from google.colab import files\n",
        "files.download('hot_stations_monthly.csv')\n"
      ],
      "metadata": {
        "colab": {
          "base_uri": "https://localhost:8080/",
          "height": 17
        },
        "id": "GRZ3hIkkO_KC",
        "outputId": "7b4b1a83-caef-496f-aa73-f8fef486b4a7"
      },
      "execution_count": 66,
      "outputs": [
        {
          "output_type": "display_data",
          "data": {
            "text/plain": [
              "<IPython.core.display.Javascript object>"
            ],
            "application/javascript": [
              "\n",
              "    async function download(id, filename, size) {\n",
              "      if (!google.colab.kernel.accessAllowed) {\n",
              "        return;\n",
              "      }\n",
              "      const div = document.createElement('div');\n",
              "      const label = document.createElement('label');\n",
              "      label.textContent = `Downloading \"${filename}\": `;\n",
              "      div.appendChild(label);\n",
              "      const progress = document.createElement('progress');\n",
              "      progress.max = size;\n",
              "      div.appendChild(progress);\n",
              "      document.body.appendChild(div);\n",
              "\n",
              "      const buffers = [];\n",
              "      let downloaded = 0;\n",
              "\n",
              "      const channel = await google.colab.kernel.comms.open(id);\n",
              "      // Send a message to notify the kernel that we're ready.\n",
              "      channel.send({})\n",
              "\n",
              "      for await (const message of channel.messages) {\n",
              "        // Send a message to notify the kernel that we're ready.\n",
              "        channel.send({})\n",
              "        if (message.buffers) {\n",
              "          for (const buffer of message.buffers) {\n",
              "            buffers.push(buffer);\n",
              "            downloaded += buffer.byteLength;\n",
              "            progress.value = downloaded;\n",
              "          }\n",
              "        }\n",
              "      }\n",
              "      const blob = new Blob(buffers, {type: 'application/binary'});\n",
              "      const a = document.createElement('a');\n",
              "      a.href = window.URL.createObjectURL(blob);\n",
              "      a.download = filename;\n",
              "      div.appendChild(a);\n",
              "      a.click();\n",
              "      div.remove();\n",
              "    }\n",
              "  "
            ]
          },
          "metadata": {}
        },
        {
          "output_type": "display_data",
          "data": {
            "text/plain": [
              "<IPython.core.display.Javascript object>"
            ],
            "application/javascript": [
              "download(\"download_20b002c8-4027-433c-92cc-5dc06b56d6f8\", \"hot_stations_monthly.csv\", 6214)"
            ]
          },
          "metadata": {}
        }
      ]
    },
    {
      "cell_type": "code",
      "source": [],
      "metadata": {
        "id": "LUJC-h8aO_Gb"
      },
      "execution_count": null,
      "outputs": []
    },
    {
      "cell_type": "code",
      "source": [],
      "metadata": {
        "id": "SmzrrzctwR8l"
      },
      "execution_count": 55,
      "outputs": []
    },
    {
      "cell_type": "markdown",
      "source": [
        "# The rest is more data visulization rather than machine learning model, so Maria you can include the below in your part if you want to, and I will delete them.\n",
        "\n",
        "# Modeling 3 - Improving User Satisfaction\n",
        "\n",
        "\n",
        "\n",
        "*   Analyze patterns for average duration by Member Type\n",
        "\n",
        "\n",
        "\n",
        "\n"
      ],
      "metadata": {
        "id": "YHHnitmVjDYG"
      }
    },
    {
      "cell_type": "code",
      "source": [
        "# Calculate average duration by member type\n",
        "member_duration = filtered_df.groupby('Member type')['Duration (min)'].mean().reset_index()\n",
        "\n",
        "# Visualize\n",
        "sns.barplot(data=member_duration, x='Member type', y='Duration (min)')\n",
        "plt.title('Average Ride Duration by Member Type')\n",
        "plt.show()\n"
      ],
      "metadata": {
        "colab": {
          "base_uri": "https://localhost:8080/",
          "height": 472
        },
        "id": "o97Y8XSHjIql",
        "outputId": "f0388b05-44c0-440d-ab51-45bfc4432656"
      },
      "execution_count": null,
      "outputs": [
        {
          "output_type": "display_data",
          "data": {
            "text/plain": [
              "<Figure size 640x480 with 1 Axes>"
            ],
            "image/png": "[encoded data removed]"
          },
          "metadata": {}
        }
      ]
    },
    {
      "cell_type": "markdown",
      "source": [
        "# Modeling 4 - Increasing Market Share\n",
        "\n",
        "\n",
        "*   Identify growth trends over time\n",
        "\n",
        "\n",
        "\n",
        "\n",
        "\n",
        "\n",
        "\n"
      ],
      "metadata": {
        "id": "Q_MVLd4tjcme"
      }
    },
    {
      "cell_type": "code",
      "source": [
        "# Group data by year and month\n",
        "monthly_usage = filtered_df.groupby(['Year', 'Month']).size().reset_index(name='Monthly Usage')\n",
        "\n",
        "# Plot trends\n",
        "sns.lineplot(data=monthly_usage, x='Month', y='Monthly Usage', hue='Year')\n",
        "plt.title('Monthly Usage Trends Over Years')\n",
        "plt.show()\n"
      ],
      "metadata": {
        "colab": {
          "base_uri": "https://localhost:8080/",
          "height": 472
        },
        "id": "FNomxdCJjW2_",
        "outputId": "35a94c25-9e62-45ef-f556-dc81c02d9944"
      },
      "execution_count": null,
      "outputs": [
        {
          "output_type": "display_data",
          "data": {
            "text/plain": [
              "<Figure size 640x480 with 1 Axes>"
            ],
            "image/png": "[encoded data removed]"
          },
          "metadata": {}
        }
      ]
    }
  ]
}